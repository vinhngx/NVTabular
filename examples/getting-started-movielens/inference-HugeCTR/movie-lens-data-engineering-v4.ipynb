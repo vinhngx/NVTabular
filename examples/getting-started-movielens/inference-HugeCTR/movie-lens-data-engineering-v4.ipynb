{
 "cells": [
  {
   "cell_type": "markdown",
   "metadata": {},
   "source": [
    "# Movie lens data engineering"
   ]
  },
  {
   "cell_type": "code",
   "execution_count": 1,
   "metadata": {},
   "outputs": [
    {
     "name": "stdout",
     "output_type": "stream",
     "text": [
      "README.txt\t   genome-tags.csv  movies.csv\t tags.csv\n",
      "genome-scores.csv  links.csv\t    ratings.csv\n"
     ]
    }
   ],
   "source": [
    "MOVIE_LENS_DATA_PATH = './data/ml-25m/'\n",
    "!ls $MOVIE_LENS_DATA_PATH"
   ]
  },
  {
   "cell_type": "code",
   "execution_count": 2,
   "metadata": {},
   "outputs": [],
   "source": [
    "import pandas as pd\n",
    "import numpy as np"
   ]
  },
  {
   "cell_type": "code",
   "execution_count": 3,
   "metadata": {},
   "outputs": [
    {
     "data": {
      "text/html": [
       "<div>\n",
       "<style scoped>\n",
       "    .dataframe tbody tr th:only-of-type {\n",
       "        vertical-align: middle;\n",
       "    }\n",
       "\n",
       "    .dataframe tbody tr th {\n",
       "        vertical-align: top;\n",
       "    }\n",
       "\n",
       "    .dataframe thead th {\n",
       "        text-align: right;\n",
       "    }\n",
       "</style>\n",
       "<table border=\"1\" class=\"dataframe\">\n",
       "  <thead>\n",
       "    <tr style=\"text-align: right;\">\n",
       "      <th></th>\n",
       "      <th>movieId</th>\n",
       "      <th>title</th>\n",
       "      <th>genres</th>\n",
       "    </tr>\n",
       "  </thead>\n",
       "  <tbody>\n",
       "    <tr>\n",
       "      <th>0</th>\n",
       "      <td>1</td>\n",
       "      <td>Toy Story (1995)</td>\n",
       "      <td>Adventure|Animation|Children|Comedy|Fantasy</td>\n",
       "    </tr>\n",
       "    <tr>\n",
       "      <th>1</th>\n",
       "      <td>2</td>\n",
       "      <td>Jumanji (1995)</td>\n",
       "      <td>Adventure|Children|Fantasy</td>\n",
       "    </tr>\n",
       "    <tr>\n",
       "      <th>2</th>\n",
       "      <td>3</td>\n",
       "      <td>Grumpier Old Men (1995)</td>\n",
       "      <td>Comedy|Romance</td>\n",
       "    </tr>\n",
       "    <tr>\n",
       "      <th>3</th>\n",
       "      <td>4</td>\n",
       "      <td>Waiting to Exhale (1995)</td>\n",
       "      <td>Comedy|Drama|Romance</td>\n",
       "    </tr>\n",
       "    <tr>\n",
       "      <th>4</th>\n",
       "      <td>5</td>\n",
       "      <td>Father of the Bride Part II (1995)</td>\n",
       "      <td>Comedy</td>\n",
       "    </tr>\n",
       "  </tbody>\n",
       "</table>\n",
       "</div>"
      ],
      "text/plain": [
       "   movieId                               title  \\\n",
       "0        1                    Toy Story (1995)   \n",
       "1        2                      Jumanji (1995)   \n",
       "2        3             Grumpier Old Men (1995)   \n",
       "3        4            Waiting to Exhale (1995)   \n",
       "4        5  Father of the Bride Part II (1995)   \n",
       "\n",
       "                                        genres  \n",
       "0  Adventure|Animation|Children|Comedy|Fantasy  \n",
       "1                   Adventure|Children|Fantasy  \n",
       "2                               Comedy|Romance  \n",
       "3                         Comedy|Drama|Romance  \n",
       "4                                       Comedy  "
      ]
     },
     "execution_count": 3,
     "metadata": {},
     "output_type": "execute_result"
    }
   ],
   "source": [
    "movies = pd.read_csv(MOVIE_LENS_DATA_PATH+\"movies.csv\")\n",
    "movies.head()"
   ]
  },
  {
   "cell_type": "code",
   "execution_count": 4,
   "metadata": {},
   "outputs": [
    {
     "data": {
      "text/html": [
       "<div>\n",
       "<style scoped>\n",
       "    .dataframe tbody tr th:only-of-type {\n",
       "        vertical-align: middle;\n",
       "    }\n",
       "\n",
       "    .dataframe tbody tr th {\n",
       "        vertical-align: top;\n",
       "    }\n",
       "\n",
       "    .dataframe thead th {\n",
       "        text-align: right;\n",
       "    }\n",
       "</style>\n",
       "<table border=\"1\" class=\"dataframe\">\n",
       "  <thead>\n",
       "    <tr style=\"text-align: right;\">\n",
       "      <th></th>\n",
       "      <th>userId</th>\n",
       "      <th>movieId</th>\n",
       "      <th>rating</th>\n",
       "      <th>timestamp</th>\n",
       "    </tr>\n",
       "  </thead>\n",
       "  <tbody>\n",
       "    <tr>\n",
       "      <th>0</th>\n",
       "      <td>1</td>\n",
       "      <td>296</td>\n",
       "      <td>5.0</td>\n",
       "      <td>1147880044</td>\n",
       "    </tr>\n",
       "    <tr>\n",
       "      <th>1</th>\n",
       "      <td>1</td>\n",
       "      <td>306</td>\n",
       "      <td>3.5</td>\n",
       "      <td>1147868817</td>\n",
       "    </tr>\n",
       "    <tr>\n",
       "      <th>2</th>\n",
       "      <td>1</td>\n",
       "      <td>307</td>\n",
       "      <td>5.0</td>\n",
       "      <td>1147868828</td>\n",
       "    </tr>\n",
       "    <tr>\n",
       "      <th>3</th>\n",
       "      <td>1</td>\n",
       "      <td>665</td>\n",
       "      <td>5.0</td>\n",
       "      <td>1147878820</td>\n",
       "    </tr>\n",
       "    <tr>\n",
       "      <th>4</th>\n",
       "      <td>1</td>\n",
       "      <td>899</td>\n",
       "      <td>3.5</td>\n",
       "      <td>1147868510</td>\n",
       "    </tr>\n",
       "  </tbody>\n",
       "</table>\n",
       "</div>"
      ],
      "text/plain": [
       "   userId  movieId  rating   timestamp\n",
       "0       1      296     5.0  1147880044\n",
       "1       1      306     3.5  1147868817\n",
       "2       1      307     5.0  1147868828\n",
       "3       1      665     5.0  1147878820\n",
       "4       1      899     3.5  1147868510"
      ]
     },
     "execution_count": 4,
     "metadata": {},
     "output_type": "execute_result"
    }
   ],
   "source": [
    "ratings = pd.read_csv(MOVIE_LENS_DATA_PATH+\"ratings.csv\")\n",
    "ratings.head()"
   ]
  },
  {
   "cell_type": "code",
   "execution_count": 5,
   "metadata": {},
   "outputs": [
    {
     "data": {
      "text/html": [
       "<div>\n",
       "<style scoped>\n",
       "    .dataframe tbody tr th:only-of-type {\n",
       "        vertical-align: middle;\n",
       "    }\n",
       "\n",
       "    .dataframe tbody tr th {\n",
       "        vertical-align: top;\n",
       "    }\n",
       "\n",
       "    .dataframe thead th {\n",
       "        text-align: right;\n",
       "    }\n",
       "</style>\n",
       "<table border=\"1\" class=\"dataframe\">\n",
       "  <thead>\n",
       "    <tr style=\"text-align: right;\">\n",
       "      <th></th>\n",
       "      <th>movieId</th>\n",
       "      <th>imdbId</th>\n",
       "      <th>tmdbId</th>\n",
       "    </tr>\n",
       "  </thead>\n",
       "  <tbody>\n",
       "    <tr>\n",
       "      <th>0</th>\n",
       "      <td>1</td>\n",
       "      <td>0114709</td>\n",
       "      <td>862</td>\n",
       "    </tr>\n",
       "    <tr>\n",
       "      <th>1</th>\n",
       "      <td>2</td>\n",
       "      <td>0113497</td>\n",
       "      <td>8844</td>\n",
       "    </tr>\n",
       "    <tr>\n",
       "      <th>2</th>\n",
       "      <td>3</td>\n",
       "      <td>0113228</td>\n",
       "      <td>15602</td>\n",
       "    </tr>\n",
       "    <tr>\n",
       "      <th>3</th>\n",
       "      <td>4</td>\n",
       "      <td>0114885</td>\n",
       "      <td>31357</td>\n",
       "    </tr>\n",
       "    <tr>\n",
       "      <th>4</th>\n",
       "      <td>5</td>\n",
       "      <td>0113041</td>\n",
       "      <td>11862</td>\n",
       "    </tr>\n",
       "  </tbody>\n",
       "</table>\n",
       "</div>"
      ],
      "text/plain": [
       "   movieId   imdbId tmdbId\n",
       "0        1  0114709    862\n",
       "1        2  0113497   8844\n",
       "2        3  0113228  15602\n",
       "3        4  0114885  31357\n",
       "4        5  0113041  11862"
      ]
     },
     "execution_count": 5,
     "metadata": {},
     "output_type": "execute_result"
    }
   ],
   "source": [
    "links = pd.read_csv(MOVIE_LENS_DATA_PATH+\"links.csv\", dtype={'imdbId':str, 'tmdbId': str})\n",
    "links.head()"
   ]
  },
  {
   "cell_type": "code",
   "execution_count": 6,
   "metadata": {},
   "outputs": [],
   "source": [
    "numeric_features = []\n",
    "cat_features = []"
   ]
  },
  {
   "cell_type": "markdown",
   "metadata": {},
   "source": [
    "## Extract movie statistics\n",
    "\n",
    "\n",
    "### Movies ave rating & numbers of ratings"
   ]
  },
  {
   "cell_type": "code",
   "execution_count": 7,
   "metadata": {},
   "outputs": [],
   "source": [
    "movies_num_ratings = pd.DataFrame(ratings.groupby('movieId').agg({'userId': ['count'],\n",
    "                                                                  'rating': ['mean']}))"
   ]
  },
  {
   "cell_type": "code",
   "execution_count": 8,
   "metadata": {},
   "outputs": [],
   "source": [
    "movies_num_ratings.columns = [\"_\".join(x) for x in movies_num_ratings.columns.ravel()]"
   ]
  },
  {
   "cell_type": "code",
   "execution_count": 9,
   "metadata": {},
   "outputs": [
    {
     "data": {
      "text/html": [
       "<div>\n",
       "<style scoped>\n",
       "    .dataframe tbody tr th:only-of-type {\n",
       "        vertical-align: middle;\n",
       "    }\n",
       "\n",
       "    .dataframe tbody tr th {\n",
       "        vertical-align: top;\n",
       "    }\n",
       "\n",
       "    .dataframe thead th {\n",
       "        text-align: right;\n",
       "    }\n",
       "</style>\n",
       "<table border=\"1\" class=\"dataframe\">\n",
       "  <thead>\n",
       "    <tr style=\"text-align: right;\">\n",
       "      <th></th>\n",
       "      <th>userId_count</th>\n",
       "      <th>rating_mean</th>\n",
       "    </tr>\n",
       "    <tr>\n",
       "      <th>movieId</th>\n",
       "      <th></th>\n",
       "      <th></th>\n",
       "    </tr>\n",
       "  </thead>\n",
       "  <tbody>\n",
       "    <tr>\n",
       "      <th>1</th>\n",
       "      <td>57309</td>\n",
       "      <td>3.893708</td>\n",
       "    </tr>\n",
       "    <tr>\n",
       "      <th>2</th>\n",
       "      <td>24228</td>\n",
       "      <td>3.251527</td>\n",
       "    </tr>\n",
       "    <tr>\n",
       "      <th>3</th>\n",
       "      <td>11804</td>\n",
       "      <td>3.142028</td>\n",
       "    </tr>\n",
       "    <tr>\n",
       "      <th>4</th>\n",
       "      <td>2523</td>\n",
       "      <td>2.853547</td>\n",
       "    </tr>\n",
       "    <tr>\n",
       "      <th>5</th>\n",
       "      <td>11714</td>\n",
       "      <td>3.058434</td>\n",
       "    </tr>\n",
       "  </tbody>\n",
       "</table>\n",
       "</div>"
      ],
      "text/plain": [
       "         userId_count  rating_mean\n",
       "movieId                           \n",
       "1               57309     3.893708\n",
       "2               24228     3.251527\n",
       "3               11804     3.142028\n",
       "4                2523     2.853547\n",
       "5               11714     3.058434"
      ]
     },
     "execution_count": 9,
     "metadata": {},
     "output_type": "execute_result"
    }
   ],
   "source": [
    "movies_num_ratings.head()"
   ]
  },
  {
   "cell_type": "code",
   "execution_count": 10,
   "metadata": {},
   "outputs": [],
   "source": [
    "movies = movies.join(movies_num_ratings, on = 'movieId')"
   ]
  },
  {
   "cell_type": "code",
   "execution_count": 11,
   "metadata": {},
   "outputs": [
    {
     "data": {
      "text/html": [
       "<div>\n",
       "<style scoped>\n",
       "    .dataframe tbody tr th:only-of-type {\n",
       "        vertical-align: middle;\n",
       "    }\n",
       "\n",
       "    .dataframe tbody tr th {\n",
       "        vertical-align: top;\n",
       "    }\n",
       "\n",
       "    .dataframe thead th {\n",
       "        text-align: right;\n",
       "    }\n",
       "</style>\n",
       "<table border=\"1\" class=\"dataframe\">\n",
       "  <thead>\n",
       "    <tr style=\"text-align: right;\">\n",
       "      <th></th>\n",
       "      <th>movieId</th>\n",
       "      <th>title</th>\n",
       "      <th>genres</th>\n",
       "      <th>userId_count</th>\n",
       "      <th>rating_mean</th>\n",
       "    </tr>\n",
       "  </thead>\n",
       "  <tbody>\n",
       "    <tr>\n",
       "      <th>0</th>\n",
       "      <td>1</td>\n",
       "      <td>Toy Story (1995)</td>\n",
       "      <td>Adventure|Animation|Children|Comedy|Fantasy</td>\n",
       "      <td>57309.0</td>\n",
       "      <td>3.893708</td>\n",
       "    </tr>\n",
       "    <tr>\n",
       "      <th>1</th>\n",
       "      <td>2</td>\n",
       "      <td>Jumanji (1995)</td>\n",
       "      <td>Adventure|Children|Fantasy</td>\n",
       "      <td>24228.0</td>\n",
       "      <td>3.251527</td>\n",
       "    </tr>\n",
       "    <tr>\n",
       "      <th>2</th>\n",
       "      <td>3</td>\n",
       "      <td>Grumpier Old Men (1995)</td>\n",
       "      <td>Comedy|Romance</td>\n",
       "      <td>11804.0</td>\n",
       "      <td>3.142028</td>\n",
       "    </tr>\n",
       "    <tr>\n",
       "      <th>3</th>\n",
       "      <td>4</td>\n",
       "      <td>Waiting to Exhale (1995)</td>\n",
       "      <td>Comedy|Drama|Romance</td>\n",
       "      <td>2523.0</td>\n",
       "      <td>2.853547</td>\n",
       "    </tr>\n",
       "    <tr>\n",
       "      <th>4</th>\n",
       "      <td>5</td>\n",
       "      <td>Father of the Bride Part II (1995)</td>\n",
       "      <td>Comedy</td>\n",
       "      <td>11714.0</td>\n",
       "      <td>3.058434</td>\n",
       "    </tr>\n",
       "  </tbody>\n",
       "</table>\n",
       "</div>"
      ],
      "text/plain": [
       "   movieId                               title  \\\n",
       "0        1                    Toy Story (1995)   \n",
       "1        2                      Jumanji (1995)   \n",
       "2        3             Grumpier Old Men (1995)   \n",
       "3        4            Waiting to Exhale (1995)   \n",
       "4        5  Father of the Bride Part II (1995)   \n",
       "\n",
       "                                        genres  userId_count  rating_mean  \n",
       "0  Adventure|Animation|Children|Comedy|Fantasy       57309.0     3.893708  \n",
       "1                   Adventure|Children|Fantasy       24228.0     3.251527  \n",
       "2                               Comedy|Romance       11804.0     3.142028  \n",
       "3                         Comedy|Drama|Romance        2523.0     2.853547  \n",
       "4                                       Comedy       11714.0     3.058434  "
      ]
     },
     "execution_count": 11,
     "metadata": {},
     "output_type": "execute_result"
    }
   ],
   "source": [
    "movies.head()"
   ]
  },
  {
   "cell_type": "code",
   "execution_count": 12,
   "metadata": {},
   "outputs": [],
   "source": [
    "numeric_features += ['userId_count', 'rating_mean']"
   ]
  },
  {
   "cell_type": "markdown",
   "metadata": {},
   "source": [
    "## Extract movie year"
   ]
  },
  {
   "cell_type": "code",
   "execution_count": 13,
   "metadata": {},
   "outputs": [],
   "source": [
    "movies['year'] = movies.title.str.extract(\"\\((\\d{4})\\)\", expand=True)\n",
    "movies.year = pd.to_datetime(movies.year, format='%Y')\n",
    "movies.year = movies.year.dt.year # As there are some NaN years, resulting type will be float (decimals)\n",
    "\n",
    "movies['year_cat'] = movies['year']"
   ]
  },
  {
   "cell_type": "code",
   "execution_count": 14,
   "metadata": {},
   "outputs": [
    {
     "data": {
      "text/html": [
       "<div>\n",
       "<style scoped>\n",
       "    .dataframe tbody tr th:only-of-type {\n",
       "        vertical-align: middle;\n",
       "    }\n",
       "\n",
       "    .dataframe tbody tr th {\n",
       "        vertical-align: top;\n",
       "    }\n",
       "\n",
       "    .dataframe thead th {\n",
       "        text-align: right;\n",
       "    }\n",
       "</style>\n",
       "<table border=\"1\" class=\"dataframe\">\n",
       "  <thead>\n",
       "    <tr style=\"text-align: right;\">\n",
       "      <th></th>\n",
       "      <th>movieId</th>\n",
       "      <th>title</th>\n",
       "      <th>genres</th>\n",
       "      <th>userId_count</th>\n",
       "      <th>rating_mean</th>\n",
       "      <th>year</th>\n",
       "      <th>year_cat</th>\n",
       "    </tr>\n",
       "  </thead>\n",
       "  <tbody>\n",
       "    <tr>\n",
       "      <th>0</th>\n",
       "      <td>1</td>\n",
       "      <td>Toy Story (1995)</td>\n",
       "      <td>Adventure|Animation|Children|Comedy|Fantasy</td>\n",
       "      <td>57309.0</td>\n",
       "      <td>3.893708</td>\n",
       "      <td>1995.0</td>\n",
       "      <td>1995.0</td>\n",
       "    </tr>\n",
       "    <tr>\n",
       "      <th>1</th>\n",
       "      <td>2</td>\n",
       "      <td>Jumanji (1995)</td>\n",
       "      <td>Adventure|Children|Fantasy</td>\n",
       "      <td>24228.0</td>\n",
       "      <td>3.251527</td>\n",
       "      <td>1995.0</td>\n",
       "      <td>1995.0</td>\n",
       "    </tr>\n",
       "    <tr>\n",
       "      <th>2</th>\n",
       "      <td>3</td>\n",
       "      <td>Grumpier Old Men (1995)</td>\n",
       "      <td>Comedy|Romance</td>\n",
       "      <td>11804.0</td>\n",
       "      <td>3.142028</td>\n",
       "      <td>1995.0</td>\n",
       "      <td>1995.0</td>\n",
       "    </tr>\n",
       "    <tr>\n",
       "      <th>3</th>\n",
       "      <td>4</td>\n",
       "      <td>Waiting to Exhale (1995)</td>\n",
       "      <td>Comedy|Drama|Romance</td>\n",
       "      <td>2523.0</td>\n",
       "      <td>2.853547</td>\n",
       "      <td>1995.0</td>\n",
       "      <td>1995.0</td>\n",
       "    </tr>\n",
       "    <tr>\n",
       "      <th>4</th>\n",
       "      <td>5</td>\n",
       "      <td>Father of the Bride Part II (1995)</td>\n",
       "      <td>Comedy</td>\n",
       "      <td>11714.0</td>\n",
       "      <td>3.058434</td>\n",
       "      <td>1995.0</td>\n",
       "      <td>1995.0</td>\n",
       "    </tr>\n",
       "  </tbody>\n",
       "</table>\n",
       "</div>"
      ],
      "text/plain": [
       "   movieId                               title  \\\n",
       "0        1                    Toy Story (1995)   \n",
       "1        2                      Jumanji (1995)   \n",
       "2        3             Grumpier Old Men (1995)   \n",
       "3        4            Waiting to Exhale (1995)   \n",
       "4        5  Father of the Bride Part II (1995)   \n",
       "\n",
       "                                        genres  userId_count  rating_mean  \\\n",
       "0  Adventure|Animation|Children|Comedy|Fantasy       57309.0     3.893708   \n",
       "1                   Adventure|Children|Fantasy       24228.0     3.251527   \n",
       "2                               Comedy|Romance       11804.0     3.142028   \n",
       "3                         Comedy|Drama|Romance        2523.0     2.853547   \n",
       "4                                       Comedy       11714.0     3.058434   \n",
       "\n",
       "     year  year_cat  \n",
       "0  1995.0    1995.0  \n",
       "1  1995.0    1995.0  \n",
       "2  1995.0    1995.0  \n",
       "3  1995.0    1995.0  \n",
       "4  1995.0    1995.0  "
      ]
     },
     "execution_count": 14,
     "metadata": {},
     "output_type": "execute_result"
    }
   ],
   "source": [
    "movies.head()"
   ]
  },
  {
   "cell_type": "code",
   "execution_count": 15,
   "metadata": {},
   "outputs": [],
   "source": [
    "numeric_features += ['year']\n",
    "cat_features += ['year_cat'] # encode year as both numeric and cat?"
   ]
  },
  {
   "cell_type": "markdown",
   "metadata": {},
   "source": [
    "## Movies genres"
   ]
  },
  {
   "cell_type": "code",
   "execution_count": 16,
   "metadata": {},
   "outputs": [
    {
     "name": "stderr",
     "output_type": "stream",
     "text": [
      "100%|██████████| 62423/62423 [00:04<00:00, 14991.51it/s]\n"
     ]
    }
   ],
   "source": [
    "from tqdm import tqdm\n",
    "\n",
    "for i, row in tqdm(movies.iterrows(), total=len(movies)):\n",
    "    try:\n",
    "        row_genres = row['genres'].split('|')\n",
    "        for g in row_genres:\n",
    "            movies.at[i, g] = 1\n",
    "    except:\n",
    "        pass"
   ]
  },
  {
   "cell_type": "code",
   "execution_count": 17,
   "metadata": {},
   "outputs": [],
   "source": [
    "genres = set()"
   ]
  },
  {
   "cell_type": "code",
   "execution_count": 18,
   "metadata": {},
   "outputs": [],
   "source": [
    "for g in movies['genres']:\n",
    "    genres = genres.union(set(g.split('|')))"
   ]
  },
  {
   "cell_type": "code",
   "execution_count": 19,
   "metadata": {},
   "outputs": [
    {
     "data": {
      "text/plain": [
       "{'(no genres listed)',\n",
       " 'Action',\n",
       " 'Adventure',\n",
       " 'Animation',\n",
       " 'Children',\n",
       " 'Comedy',\n",
       " 'Crime',\n",
       " 'Documentary',\n",
       " 'Drama',\n",
       " 'Fantasy',\n",
       " 'Film-Noir',\n",
       " 'Horror',\n",
       " 'IMAX',\n",
       " 'Musical',\n",
       " 'Mystery',\n",
       " 'Romance',\n",
       " 'Sci-Fi',\n",
       " 'Thriller',\n",
       " 'War',\n",
       " 'Western'}"
      ]
     },
     "execution_count": 19,
     "metadata": {},
     "output_type": "execute_result"
    }
   ],
   "source": [
    "genres"
   ]
  },
  {
   "cell_type": "code",
   "execution_count": 20,
   "metadata": {},
   "outputs": [
    {
     "data": {
      "text/plain": [
       "20"
      ]
     },
     "execution_count": 20,
     "metadata": {},
     "output_type": "execute_result"
    }
   ],
   "source": [
    "len(genres)"
   ]
  },
  {
   "cell_type": "code",
   "execution_count": 21,
   "metadata": {},
   "outputs": [],
   "source": [
    "cat_features += ['genres']"
   ]
  },
  {
   "cell_type": "markdown",
   "metadata": {},
   "source": [
    "## Tags & genres: using TF-IDF and SVD"
   ]
  },
  {
   "cell_type": "code",
   "execution_count": 22,
   "metadata": {},
   "outputs": [
    {
     "data": {
      "text/html": [
       "<div>\n",
       "<style scoped>\n",
       "    .dataframe tbody tr th:only-of-type {\n",
       "        vertical-align: middle;\n",
       "    }\n",
       "\n",
       "    .dataframe tbody tr th {\n",
       "        vertical-align: top;\n",
       "    }\n",
       "\n",
       "    .dataframe thead th {\n",
       "        text-align: right;\n",
       "    }\n",
       "</style>\n",
       "<table border=\"1\" class=\"dataframe\">\n",
       "  <thead>\n",
       "    <tr style=\"text-align: right;\">\n",
       "      <th></th>\n",
       "      <th>movieId</th>\n",
       "      <th>title</th>\n",
       "      <th>genres</th>\n",
       "      <th>userId_count</th>\n",
       "      <th>rating_mean</th>\n",
       "      <th>year</th>\n",
       "      <th>year_cat</th>\n",
       "      <th>Adventure</th>\n",
       "      <th>Animation</th>\n",
       "      <th>Children</th>\n",
       "      <th>...</th>\n",
       "      <th>IMAX</th>\n",
       "      <th>Documentary</th>\n",
       "      <th>War</th>\n",
       "      <th>Musical</th>\n",
       "      <th>Western</th>\n",
       "      <th>Film-Noir</th>\n",
       "      <th>(no genres listed)</th>\n",
       "      <th>userId</th>\n",
       "      <th>tag</th>\n",
       "      <th>timestamp</th>\n",
       "    </tr>\n",
       "  </thead>\n",
       "  <tbody>\n",
       "    <tr>\n",
       "      <th>0</th>\n",
       "      <td>1</td>\n",
       "      <td>Toy Story (1995)</td>\n",
       "      <td>Adventure|Animation|Children|Comedy|Fantasy</td>\n",
       "      <td>57309.0</td>\n",
       "      <td>3.893708</td>\n",
       "      <td>1995.0</td>\n",
       "      <td>1995.0</td>\n",
       "      <td>1.0</td>\n",
       "      <td>1.0</td>\n",
       "      <td>1.0</td>\n",
       "      <td>...</td>\n",
       "      <td>NaN</td>\n",
       "      <td>NaN</td>\n",
       "      <td>NaN</td>\n",
       "      <td>NaN</td>\n",
       "      <td>NaN</td>\n",
       "      <td>NaN</td>\n",
       "      <td>NaN</td>\n",
       "      <td>791.0</td>\n",
       "      <td>Owned</td>\n",
       "      <td>1.515175e+09</td>\n",
       "    </tr>\n",
       "    <tr>\n",
       "      <th>1</th>\n",
       "      <td>1</td>\n",
       "      <td>Toy Story (1995)</td>\n",
       "      <td>Adventure|Animation|Children|Comedy|Fantasy</td>\n",
       "      <td>57309.0</td>\n",
       "      <td>3.893708</td>\n",
       "      <td>1995.0</td>\n",
       "      <td>1995.0</td>\n",
       "      <td>1.0</td>\n",
       "      <td>1.0</td>\n",
       "      <td>1.0</td>\n",
       "      <td>...</td>\n",
       "      <td>NaN</td>\n",
       "      <td>NaN</td>\n",
       "      <td>NaN</td>\n",
       "      <td>NaN</td>\n",
       "      <td>NaN</td>\n",
       "      <td>NaN</td>\n",
       "      <td>NaN</td>\n",
       "      <td>1048.0</td>\n",
       "      <td>imdb top 250</td>\n",
       "      <td>1.172144e+09</td>\n",
       "    </tr>\n",
       "    <tr>\n",
       "      <th>2</th>\n",
       "      <td>1</td>\n",
       "      <td>Toy Story (1995)</td>\n",
       "      <td>Adventure|Animation|Children|Comedy|Fantasy</td>\n",
       "      <td>57309.0</td>\n",
       "      <td>3.893708</td>\n",
       "      <td>1995.0</td>\n",
       "      <td>1995.0</td>\n",
       "      <td>1.0</td>\n",
       "      <td>1.0</td>\n",
       "      <td>1.0</td>\n",
       "      <td>...</td>\n",
       "      <td>NaN</td>\n",
       "      <td>NaN</td>\n",
       "      <td>NaN</td>\n",
       "      <td>NaN</td>\n",
       "      <td>NaN</td>\n",
       "      <td>NaN</td>\n",
       "      <td>NaN</td>\n",
       "      <td>1361.0</td>\n",
       "      <td>Pixar</td>\n",
       "      <td>1.216146e+09</td>\n",
       "    </tr>\n",
       "  </tbody>\n",
       "</table>\n",
       "<p>3 rows × 30 columns</p>\n",
       "</div>"
      ],
      "text/plain": [
       "   movieId             title                                       genres  \\\n",
       "0        1  Toy Story (1995)  Adventure|Animation|Children|Comedy|Fantasy   \n",
       "1        1  Toy Story (1995)  Adventure|Animation|Children|Comedy|Fantasy   \n",
       "2        1  Toy Story (1995)  Adventure|Animation|Children|Comedy|Fantasy   \n",
       "\n",
       "   userId_count  rating_mean    year  year_cat  Adventure  Animation  \\\n",
       "0       57309.0     3.893708  1995.0    1995.0        1.0        1.0   \n",
       "1       57309.0     3.893708  1995.0    1995.0        1.0        1.0   \n",
       "2       57309.0     3.893708  1995.0    1995.0        1.0        1.0   \n",
       "\n",
       "   Children  ...  IMAX  Documentary  War  Musical  Western  Film-Noir  \\\n",
       "0       1.0  ...   NaN          NaN  NaN      NaN      NaN        NaN   \n",
       "1       1.0  ...   NaN          NaN  NaN      NaN      NaN        NaN   \n",
       "2       1.0  ...   NaN          NaN  NaN      NaN      NaN        NaN   \n",
       "\n",
       "   (no genres listed)  userId           tag     timestamp  \n",
       "0                 NaN   791.0         Owned  1.515175e+09  \n",
       "1                 NaN  1048.0  imdb top 250  1.172144e+09  \n",
       "2                 NaN  1361.0         Pixar  1.216146e+09  \n",
       "\n",
       "[3 rows x 30 columns]"
      ]
     },
     "execution_count": 22,
     "metadata": {},
     "output_type": "execute_result"
    }
   ],
   "source": [
    "tags = pd.read_csv(MOVIE_LENS_DATA_PATH+\"tags.csv\")\n",
    "# create a mixed dataframe of movies title, genres \n",
    "# and all user tags given to each movie\n",
    "mixed = pd.merge(movies, tags, on='movieId', how='left')\n",
    "mixed.head(3)"
   ]
  },
  {
   "cell_type": "code",
   "execution_count": 23,
   "metadata": {},
   "outputs": [],
   "source": [
    "# create metadata from tags and genres\n",
    "mixed.fillna(\"\", inplace=True)\n",
    "mixed = pd.DataFrame(mixed.groupby('movieId')['tag'].apply(\n",
    "                             lambda x: \"%s\" % ' '.join(x)))\n"
   ]
  },
  {
   "cell_type": "code",
   "execution_count": 24,
   "metadata": {},
   "outputs": [],
   "source": [
    "movies['genres'] = movies['genres'].apply(lambda x: ' '.join(x.split('|')))"
   ]
  },
  {
   "cell_type": "code",
   "execution_count": 25,
   "metadata": {},
   "outputs": [
    {
     "data": {
      "text/html": [
       "<div>\n",
       "<style scoped>\n",
       "    .dataframe tbody tr th:only-of-type {\n",
       "        vertical-align: middle;\n",
       "    }\n",
       "\n",
       "    .dataframe tbody tr th {\n",
       "        vertical-align: top;\n",
       "    }\n",
       "\n",
       "    .dataframe thead th {\n",
       "        text-align: right;\n",
       "    }\n",
       "</style>\n",
       "<table border=\"1\" class=\"dataframe\">\n",
       "  <thead>\n",
       "    <tr style=\"text-align: right;\">\n",
       "      <th></th>\n",
       "      <th>movieId</th>\n",
       "      <th>title</th>\n",
       "      <th>metadata</th>\n",
       "    </tr>\n",
       "  </thead>\n",
       "  <tbody>\n",
       "    <tr>\n",
       "      <th>0</th>\n",
       "      <td>1</td>\n",
       "      <td>Toy Story (1995)</td>\n",
       "      <td>Adventure Animation Children Comedy Fantasy Ow...</td>\n",
       "    </tr>\n",
       "    <tr>\n",
       "      <th>1</th>\n",
       "      <td>2</td>\n",
       "      <td>Jumanji (1995)</td>\n",
       "      <td>Adventure Children Fantasy Robin Williams time...</td>\n",
       "    </tr>\n",
       "    <tr>\n",
       "      <th>2</th>\n",
       "      <td>3</td>\n",
       "      <td>Grumpier Old Men (1995)</td>\n",
       "      <td>Comedy Romance funny best friend duringcredits...</td>\n",
       "    </tr>\n",
       "  </tbody>\n",
       "</table>\n",
       "</div>"
      ],
      "text/plain": [
       "   movieId                    title  \\\n",
       "0        1         Toy Story (1995)   \n",
       "1        2           Jumanji (1995)   \n",
       "2        3  Grumpier Old Men (1995)   \n",
       "\n",
       "                                            metadata  \n",
       "0  Adventure Animation Children Comedy Fantasy Ow...  \n",
       "1  Adventure Children Fantasy Robin Williams time...  \n",
       "2  Comedy Romance funny best friend duringcredits...  "
      ]
     },
     "execution_count": 25,
     "metadata": {},
     "output_type": "execute_result"
    }
   ],
   "source": [
    "movies_meta = pd.merge(movies, mixed, on='movieId', how='left')\n",
    "movies_meta['metadata'] = movies_meta[['genres', 'tag']].apply(\n",
    "                             lambda x: ' '.join(x), axis = 1)\n",
    "movies_meta[['movieId','title','metadata']].head(3)"
   ]
  },
  {
   "cell_type": "markdown",
   "metadata": {},
   "source": [
    "### TF-IDF vectorizer"
   ]
  },
  {
   "cell_type": "code",
   "execution_count": 26,
   "metadata": {},
   "outputs": [
    {
     "name": "stdout",
     "output_type": "stream",
     "text": [
      "(62423, 35768)\n"
     ]
    }
   ],
   "source": [
    "from sklearn.feature_extraction.text import TfidfVectorizer\n",
    "tfidf = TfidfVectorizer(stop_words='english')\n",
    "tfidf_matrix = tfidf.fit_transform(movies_meta['metadata'])\n",
    "tfidf_df = pd.DataFrame(tfidf_matrix.toarray(), index=movies_meta['movieId'].tolist())\n",
    "print(tfidf_df.shape)"
   ]
  },
  {
   "cell_type": "code",
   "execution_count": 27,
   "metadata": {},
   "outputs": [
    {
     "data": {
      "text/html": [
       "<div>\n",
       "<style scoped>\n",
       "    .dataframe tbody tr th:only-of-type {\n",
       "        vertical-align: middle;\n",
       "    }\n",
       "\n",
       "    .dataframe tbody tr th {\n",
       "        vertical-align: top;\n",
       "    }\n",
       "\n",
       "    .dataframe thead th {\n",
       "        text-align: right;\n",
       "    }\n",
       "</style>\n",
       "<table border=\"1\" class=\"dataframe\">\n",
       "  <thead>\n",
       "    <tr style=\"text-align: right;\">\n",
       "      <th></th>\n",
       "      <th>0</th>\n",
       "      <th>1</th>\n",
       "      <th>2</th>\n",
       "      <th>3</th>\n",
       "      <th>4</th>\n",
       "      <th>5</th>\n",
       "      <th>6</th>\n",
       "      <th>7</th>\n",
       "      <th>8</th>\n",
       "      <th>9</th>\n",
       "      <th>...</th>\n",
       "      <th>35758</th>\n",
       "      <th>35759</th>\n",
       "      <th>35760</th>\n",
       "      <th>35761</th>\n",
       "      <th>35762</th>\n",
       "      <th>35763</th>\n",
       "      <th>35764</th>\n",
       "      <th>35765</th>\n",
       "      <th>35766</th>\n",
       "      <th>35767</th>\n",
       "    </tr>\n",
       "  </thead>\n",
       "  <tbody>\n",
       "    <tr>\n",
       "      <th>1</th>\n",
       "      <td>0.0</td>\n",
       "      <td>0.0</td>\n",
       "      <td>0.0</td>\n",
       "      <td>0.0</td>\n",
       "      <td>0.0</td>\n",
       "      <td>0.0</td>\n",
       "      <td>0.0</td>\n",
       "      <td>0.0</td>\n",
       "      <td>0.0</td>\n",
       "      <td>0.0</td>\n",
       "      <td>...</td>\n",
       "      <td>0.0</td>\n",
       "      <td>0.0</td>\n",
       "      <td>0.0</td>\n",
       "      <td>0.0</td>\n",
       "      <td>0.0</td>\n",
       "      <td>0.0</td>\n",
       "      <td>0.0</td>\n",
       "      <td>0.0</td>\n",
       "      <td>0.0</td>\n",
       "      <td>0.0</td>\n",
       "    </tr>\n",
       "    <tr>\n",
       "      <th>2</th>\n",
       "      <td>0.0</td>\n",
       "      <td>0.0</td>\n",
       "      <td>0.0</td>\n",
       "      <td>0.0</td>\n",
       "      <td>0.0</td>\n",
       "      <td>0.0</td>\n",
       "      <td>0.0</td>\n",
       "      <td>0.0</td>\n",
       "      <td>0.0</td>\n",
       "      <td>0.0</td>\n",
       "      <td>...</td>\n",
       "      <td>0.0</td>\n",
       "      <td>0.0</td>\n",
       "      <td>0.0</td>\n",
       "      <td>0.0</td>\n",
       "      <td>0.0</td>\n",
       "      <td>0.0</td>\n",
       "      <td>0.0</td>\n",
       "      <td>0.0</td>\n",
       "      <td>0.0</td>\n",
       "      <td>0.0</td>\n",
       "    </tr>\n",
       "    <tr>\n",
       "      <th>3</th>\n",
       "      <td>0.0</td>\n",
       "      <td>0.0</td>\n",
       "      <td>0.0</td>\n",
       "      <td>0.0</td>\n",
       "      <td>0.0</td>\n",
       "      <td>0.0</td>\n",
       "      <td>0.0</td>\n",
       "      <td>0.0</td>\n",
       "      <td>0.0</td>\n",
       "      <td>0.0</td>\n",
       "      <td>...</td>\n",
       "      <td>0.0</td>\n",
       "      <td>0.0</td>\n",
       "      <td>0.0</td>\n",
       "      <td>0.0</td>\n",
       "      <td>0.0</td>\n",
       "      <td>0.0</td>\n",
       "      <td>0.0</td>\n",
       "      <td>0.0</td>\n",
       "      <td>0.0</td>\n",
       "      <td>0.0</td>\n",
       "    </tr>\n",
       "    <tr>\n",
       "      <th>4</th>\n",
       "      <td>0.0</td>\n",
       "      <td>0.0</td>\n",
       "      <td>0.0</td>\n",
       "      <td>0.0</td>\n",
       "      <td>0.0</td>\n",
       "      <td>0.0</td>\n",
       "      <td>0.0</td>\n",
       "      <td>0.0</td>\n",
       "      <td>0.0</td>\n",
       "      <td>0.0</td>\n",
       "      <td>...</td>\n",
       "      <td>0.0</td>\n",
       "      <td>0.0</td>\n",
       "      <td>0.0</td>\n",
       "      <td>0.0</td>\n",
       "      <td>0.0</td>\n",
       "      <td>0.0</td>\n",
       "      <td>0.0</td>\n",
       "      <td>0.0</td>\n",
       "      <td>0.0</td>\n",
       "      <td>0.0</td>\n",
       "    </tr>\n",
       "    <tr>\n",
       "      <th>5</th>\n",
       "      <td>0.0</td>\n",
       "      <td>0.0</td>\n",
       "      <td>0.0</td>\n",
       "      <td>0.0</td>\n",
       "      <td>0.0</td>\n",
       "      <td>0.0</td>\n",
       "      <td>0.0</td>\n",
       "      <td>0.0</td>\n",
       "      <td>0.0</td>\n",
       "      <td>0.0</td>\n",
       "      <td>...</td>\n",
       "      <td>0.0</td>\n",
       "      <td>0.0</td>\n",
       "      <td>0.0</td>\n",
       "      <td>0.0</td>\n",
       "      <td>0.0</td>\n",
       "      <td>0.0</td>\n",
       "      <td>0.0</td>\n",
       "      <td>0.0</td>\n",
       "      <td>0.0</td>\n",
       "      <td>0.0</td>\n",
       "    </tr>\n",
       "  </tbody>\n",
       "</table>\n",
       "<p>5 rows × 35768 columns</p>\n",
       "</div>"
      ],
      "text/plain": [
       "   0      1      2      3      4      5      6      7      8      9      ...  \\\n",
       "1    0.0    0.0    0.0    0.0    0.0    0.0    0.0    0.0    0.0    0.0  ...   \n",
       "2    0.0    0.0    0.0    0.0    0.0    0.0    0.0    0.0    0.0    0.0  ...   \n",
       "3    0.0    0.0    0.0    0.0    0.0    0.0    0.0    0.0    0.0    0.0  ...   \n",
       "4    0.0    0.0    0.0    0.0    0.0    0.0    0.0    0.0    0.0    0.0  ...   \n",
       "5    0.0    0.0    0.0    0.0    0.0    0.0    0.0    0.0    0.0    0.0  ...   \n",
       "\n",
       "   35758  35759  35760  35761  35762  35763  35764  35765  35766  35767  \n",
       "1    0.0    0.0    0.0    0.0    0.0    0.0    0.0    0.0    0.0    0.0  \n",
       "2    0.0    0.0    0.0    0.0    0.0    0.0    0.0    0.0    0.0    0.0  \n",
       "3    0.0    0.0    0.0    0.0    0.0    0.0    0.0    0.0    0.0    0.0  \n",
       "4    0.0    0.0    0.0    0.0    0.0    0.0    0.0    0.0    0.0    0.0  \n",
       "5    0.0    0.0    0.0    0.0    0.0    0.0    0.0    0.0    0.0    0.0  \n",
       "\n",
       "[5 rows x 35768 columns]"
      ]
     },
     "execution_count": 27,
     "metadata": {},
     "output_type": "execute_result"
    }
   ],
   "source": [
    "tfidf_df.head()"
   ]
  },
  {
   "cell_type": "code",
   "execution_count": 28,
   "metadata": {},
   "outputs": [
    {
     "data": {
      "text/plain": [
       "35768"
      ]
     },
     "execution_count": 28,
     "metadata": {},
     "output_type": "execute_result"
    }
   ],
   "source": [
    "len(tfidf.vocabulary_)"
   ]
  },
  {
   "cell_type": "code",
   "execution_count": 29,
   "metadata": {},
   "outputs": [],
   "source": [
    "!mkdir ./assets"
   ]
  },
  {
   "cell_type": "code",
   "execution_count": 30,
   "metadata": {},
   "outputs": [],
   "source": [
    "import pickle\n",
    "\n",
    "with open('./assets/movie-lens-tf-idf.pkl', 'wb') as f:\n",
    "    pickle.dump({\"tfidf\": tfidf}, f)"
   ]
  },
  {
   "cell_type": "markdown",
   "metadata": {},
   "source": [
    "#### TF-IDF Transform new movie"
   ]
  },
  {
   "cell_type": "code",
   "execution_count": 31,
   "metadata": {},
   "outputs": [],
   "source": [
    "new_movie_feat = tfidf.transform(['cartoon'])"
   ]
  },
  {
   "cell_type": "code",
   "execution_count": 32,
   "metadata": {},
   "outputs": [
    {
     "data": {
      "text/plain": [
       "<1x35768 sparse matrix of type '<class 'numpy.float64'>'\n",
       "\twith 1 stored elements in Compressed Sparse Row format>"
      ]
     },
     "execution_count": 32,
     "metadata": {},
     "output_type": "execute_result"
    }
   ],
   "source": [
    "new_movie_feat"
   ]
  },
  {
   "cell_type": "markdown",
   "metadata": {},
   "source": [
    "### SVD on content"
   ]
  },
  {
   "cell_type": "code",
   "execution_count": 33,
   "metadata": {},
   "outputs": [],
   "source": [
    "NUM_LATENT_FACTOR = 128\n",
    "\n",
    "# Compress with SVD\n",
    "from sklearn.decomposition import TruncatedSVD\n",
    "svd = TruncatedSVD(n_components=NUM_LATENT_FACTOR)\n",
    "latent_matrix = svd.fit_transform(tfidf_df)\n",
    " \n",
    "# plot var expalined to see what latent dimensions to use\n",
    "explained = svd.explained_variance_ratio_.cumsum()\n"
   ]
  },
  {
   "cell_type": "code",
   "execution_count": 34,
   "metadata": {},
   "outputs": [
    {
     "data": {
      "image/png": "[encoded data removed]",
      "text/plain": [
       "<Figure size 432x288 with 1 Axes>"
      ]
     },
     "metadata": {
      "needs_background": "light"
     },
     "output_type": "display_data"
    }
   ],
   "source": [
    "import matplotlib.pyplot as plt\n",
    "plt.plot(explained, '.-', ms = 16, color='red')\n",
    "plt.xlabel('Singular value components', fontsize= 12)\n",
    "plt.ylabel('Cumulative percent of variance', fontsize=12)        \n",
    "plt.show()"
   ]
  },
  {
   "cell_type": "code",
   "execution_count": 35,
   "metadata": {},
   "outputs": [],
   "source": [
    "latent_matrix_1_df = pd.DataFrame(latent_matrix,\n",
    "                                  index=movies_meta['movieId'].tolist())"
   ]
  },
  {
   "cell_type": "code",
   "execution_count": 36,
   "metadata": {},
   "outputs": [
    {
     "data": {
      "text/html": [
       "<div>\n",
       "<style scoped>\n",
       "    .dataframe tbody tr th:only-of-type {\n",
       "        vertical-align: middle;\n",
       "    }\n",
       "\n",
       "    .dataframe tbody tr th {\n",
       "        vertical-align: top;\n",
       "    }\n",
       "\n",
       "    .dataframe thead th {\n",
       "        text-align: right;\n",
       "    }\n",
       "</style>\n",
       "<table border=\"1\" class=\"dataframe\">\n",
       "  <thead>\n",
       "    <tr style=\"text-align: right;\">\n",
       "      <th></th>\n",
       "      <th>0</th>\n",
       "      <th>1</th>\n",
       "      <th>2</th>\n",
       "      <th>3</th>\n",
       "      <th>4</th>\n",
       "      <th>5</th>\n",
       "      <th>6</th>\n",
       "      <th>7</th>\n",
       "      <th>8</th>\n",
       "      <th>9</th>\n",
       "      <th>...</th>\n",
       "      <th>118</th>\n",
       "      <th>119</th>\n",
       "      <th>120</th>\n",
       "      <th>121</th>\n",
       "      <th>122</th>\n",
       "      <th>123</th>\n",
       "      <th>124</th>\n",
       "      <th>125</th>\n",
       "      <th>126</th>\n",
       "      <th>127</th>\n",
       "    </tr>\n",
       "  </thead>\n",
       "  <tbody>\n",
       "    <tr>\n",
       "      <th>1</th>\n",
       "      <td>0.040733</td>\n",
       "      <td>0.000288</td>\n",
       "      <td>0.051061</td>\n",
       "      <td>0.002787</td>\n",
       "      <td>0.028925</td>\n",
       "      <td>0.011605</td>\n",
       "      <td>-0.090231</td>\n",
       "      <td>0.293034</td>\n",
       "      <td>-0.019821</td>\n",
       "      <td>0.198646</td>\n",
       "      <td>...</td>\n",
       "      <td>-0.019055</td>\n",
       "      <td>-0.022449</td>\n",
       "      <td>-0.017143</td>\n",
       "      <td>-0.008737</td>\n",
       "      <td>-0.010099</td>\n",
       "      <td>-0.006274</td>\n",
       "      <td>0.029068</td>\n",
       "      <td>0.013725</td>\n",
       "      <td>-0.002295</td>\n",
       "      <td>0.001604</td>\n",
       "    </tr>\n",
       "    <tr>\n",
       "      <th>2</th>\n",
       "      <td>0.013167</td>\n",
       "      <td>0.000391</td>\n",
       "      <td>0.005223</td>\n",
       "      <td>0.001949</td>\n",
       "      <td>0.024602</td>\n",
       "      <td>0.013538</td>\n",
       "      <td>-0.019610</td>\n",
       "      <td>0.082290</td>\n",
       "      <td>-0.009335</td>\n",
       "      <td>0.016648</td>\n",
       "      <td>...</td>\n",
       "      <td>-0.003519</td>\n",
       "      <td>-0.007143</td>\n",
       "      <td>-0.002481</td>\n",
       "      <td>-0.014160</td>\n",
       "      <td>-0.006464</td>\n",
       "      <td>0.005452</td>\n",
       "      <td>0.010710</td>\n",
       "      <td>-0.007890</td>\n",
       "      <td>0.003952</td>\n",
       "      <td>0.003624</td>\n",
       "    </tr>\n",
       "    <tr>\n",
       "      <th>3</th>\n",
       "      <td>0.025699</td>\n",
       "      <td>-0.000123</td>\n",
       "      <td>0.028008</td>\n",
       "      <td>-0.000756</td>\n",
       "      <td>0.000757</td>\n",
       "      <td>0.033766</td>\n",
       "      <td>0.006393</td>\n",
       "      <td>-0.000743</td>\n",
       "      <td>-0.004234</td>\n",
       "      <td>0.001167</td>\n",
       "      <td>...</td>\n",
       "      <td>-0.004957</td>\n",
       "      <td>-0.012409</td>\n",
       "      <td>-0.002101</td>\n",
       "      <td>-0.033175</td>\n",
       "      <td>-0.018218</td>\n",
       "      <td>-0.030952</td>\n",
       "      <td>0.034621</td>\n",
       "      <td>-0.015034</td>\n",
       "      <td>-0.011096</td>\n",
       "      <td>-0.000550</td>\n",
       "    </tr>\n",
       "    <tr>\n",
       "      <th>4</th>\n",
       "      <td>0.099710</td>\n",
       "      <td>-0.001300</td>\n",
       "      <td>0.028950</td>\n",
       "      <td>-0.003484</td>\n",
       "      <td>-0.008644</td>\n",
       "      <td>0.069895</td>\n",
       "      <td>0.014720</td>\n",
       "      <td>-0.002508</td>\n",
       "      <td>-0.008597</td>\n",
       "      <td>0.004705</td>\n",
       "      <td>...</td>\n",
       "      <td>-0.030901</td>\n",
       "      <td>-0.005265</td>\n",
       "      <td>0.013356</td>\n",
       "      <td>-0.031088</td>\n",
       "      <td>0.009554</td>\n",
       "      <td>0.004346</td>\n",
       "      <td>0.058679</td>\n",
       "      <td>0.000794</td>\n",
       "      <td>0.010145</td>\n",
       "      <td>-0.036085</td>\n",
       "    </tr>\n",
       "    <tr>\n",
       "      <th>5</th>\n",
       "      <td>0.059480</td>\n",
       "      <td>-0.000102</td>\n",
       "      <td>0.083627</td>\n",
       "      <td>-0.001704</td>\n",
       "      <td>0.003635</td>\n",
       "      <td>-0.008453</td>\n",
       "      <td>-0.001699</td>\n",
       "      <td>0.017315</td>\n",
       "      <td>0.003003</td>\n",
       "      <td>0.003468</td>\n",
       "      <td>...</td>\n",
       "      <td>-0.009724</td>\n",
       "      <td>0.004267</td>\n",
       "      <td>-0.012850</td>\n",
       "      <td>-0.066092</td>\n",
       "      <td>-0.015030</td>\n",
       "      <td>-0.009652</td>\n",
       "      <td>0.028920</td>\n",
       "      <td>-0.037854</td>\n",
       "      <td>0.051414</td>\n",
       "      <td>-0.041663</td>\n",
       "    </tr>\n",
       "  </tbody>\n",
       "</table>\n",
       "<p>5 rows × 128 columns</p>\n",
       "</div>"
      ],
      "text/plain": [
       "        0         1         2         3         4         5         6    \\\n",
       "1  0.040733  0.000288  0.051061  0.002787  0.028925  0.011605 -0.090231   \n",
       "2  0.013167  0.000391  0.005223  0.001949  0.024602  0.013538 -0.019610   \n",
       "3  0.025699 -0.000123  0.028008 -0.000756  0.000757  0.033766  0.006393   \n",
       "4  0.099710 -0.001300  0.028950 -0.003484 -0.008644  0.069895  0.014720   \n",
       "5  0.059480 -0.000102  0.083627 -0.001704  0.003635 -0.008453 -0.001699   \n",
       "\n",
       "        7         8         9    ...       118       119       120       121  \\\n",
       "1  0.293034 -0.019821  0.198646  ... -0.019055 -0.022449 -0.017143 -0.008737   \n",
       "2  0.082290 -0.009335  0.016648  ... -0.003519 -0.007143 -0.002481 -0.014160   \n",
       "3 -0.000743 -0.004234  0.001167  ... -0.004957 -0.012409 -0.002101 -0.033175   \n",
       "4 -0.002508 -0.008597  0.004705  ... -0.030901 -0.005265  0.013356 -0.031088   \n",
       "5  0.017315  0.003003  0.003468  ... -0.009724  0.004267 -0.012850 -0.066092   \n",
       "\n",
       "        122       123       124       125       126       127  \n",
       "1 -0.010099 -0.006274  0.029068  0.013725 -0.002295  0.001604  \n",
       "2 -0.006464  0.005452  0.010710 -0.007890  0.003952  0.003624  \n",
       "3 -0.018218 -0.030952  0.034621 -0.015034 -0.011096 -0.000550  \n",
       "4  0.009554  0.004346  0.058679  0.000794  0.010145 -0.036085  \n",
       "5 -0.015030 -0.009652  0.028920 -0.037854  0.051414 -0.041663  \n",
       "\n",
       "[5 rows x 128 columns]"
      ]
     },
     "execution_count": 36,
     "metadata": {},
     "output_type": "execute_result"
    }
   ],
   "source": [
    "latent_matrix_1_df.head()"
   ]
  },
  {
   "cell_type": "code",
   "execution_count": 37,
   "metadata": {},
   "outputs": [
    {
     "data": {
      "text/plain": [
       "Index(['SVD_latent_0', 'SVD_latent_1', 'SVD_latent_2', 'SVD_latent_3',\n",
       "       'SVD_latent_4', 'SVD_latent_5', 'SVD_latent_6', 'SVD_latent_7',\n",
       "       'SVD_latent_8', 'SVD_latent_9',\n",
       "       ...\n",
       "       'SVD_latent_118', 'SVD_latent_119', 'SVD_latent_120', 'SVD_latent_121',\n",
       "       'SVD_latent_122', 'SVD_latent_123', 'SVD_latent_124', 'SVD_latent_125',\n",
       "       'SVD_latent_126', 'SVD_latent_127'],\n",
       "      dtype='object', length=128)"
      ]
     },
     "execution_count": 37,
     "metadata": {},
     "output_type": "execute_result"
    }
   ],
   "source": [
    "latent_matrix_1_df.set_axis(['SVD_latent_%d'%i for i in range(NUM_LATENT_FACTOR)], axis='columns', inplace=True)\n",
    "latent_matrix_1_df.columns"
   ]
  },
  {
   "cell_type": "code",
   "execution_count": 38,
   "metadata": {},
   "outputs": [],
   "source": [
    "latent_matrix_1_df['movieId'] = latent_matrix_1_df.index"
   ]
  },
  {
   "cell_type": "code",
   "execution_count": 39,
   "metadata": {},
   "outputs": [
    {
     "data": {
      "text/html": [
       "<div>\n",
       "<style scoped>\n",
       "    .dataframe tbody tr th:only-of-type {\n",
       "        vertical-align: middle;\n",
       "    }\n",
       "\n",
       "    .dataframe tbody tr th {\n",
       "        vertical-align: top;\n",
       "    }\n",
       "\n",
       "    .dataframe thead th {\n",
       "        text-align: right;\n",
       "    }\n",
       "</style>\n",
       "<table border=\"1\" class=\"dataframe\">\n",
       "  <thead>\n",
       "    <tr style=\"text-align: right;\">\n",
       "      <th></th>\n",
       "      <th>SVD_latent_0</th>\n",
       "      <th>SVD_latent_1</th>\n",
       "      <th>SVD_latent_2</th>\n",
       "      <th>SVD_latent_3</th>\n",
       "      <th>SVD_latent_4</th>\n",
       "      <th>SVD_latent_5</th>\n",
       "      <th>SVD_latent_6</th>\n",
       "      <th>SVD_latent_7</th>\n",
       "      <th>SVD_latent_8</th>\n",
       "      <th>SVD_latent_9</th>\n",
       "      <th>...</th>\n",
       "      <th>SVD_latent_119</th>\n",
       "      <th>SVD_latent_120</th>\n",
       "      <th>SVD_latent_121</th>\n",
       "      <th>SVD_latent_122</th>\n",
       "      <th>SVD_latent_123</th>\n",
       "      <th>SVD_latent_124</th>\n",
       "      <th>SVD_latent_125</th>\n",
       "      <th>SVD_latent_126</th>\n",
       "      <th>SVD_latent_127</th>\n",
       "      <th>movieId</th>\n",
       "    </tr>\n",
       "  </thead>\n",
       "  <tbody>\n",
       "    <tr>\n",
       "      <th>1</th>\n",
       "      <td>0.040733</td>\n",
       "      <td>0.000288</td>\n",
       "      <td>0.051061</td>\n",
       "      <td>0.002787</td>\n",
       "      <td>0.028925</td>\n",
       "      <td>0.011605</td>\n",
       "      <td>-0.090231</td>\n",
       "      <td>0.293034</td>\n",
       "      <td>-0.019821</td>\n",
       "      <td>0.198646</td>\n",
       "      <td>...</td>\n",
       "      <td>-0.022449</td>\n",
       "      <td>-0.017143</td>\n",
       "      <td>-0.008737</td>\n",
       "      <td>-0.010099</td>\n",
       "      <td>-0.006274</td>\n",
       "      <td>0.029068</td>\n",
       "      <td>0.013725</td>\n",
       "      <td>-0.002295</td>\n",
       "      <td>0.001604</td>\n",
       "      <td>1</td>\n",
       "    </tr>\n",
       "    <tr>\n",
       "      <th>2</th>\n",
       "      <td>0.013167</td>\n",
       "      <td>0.000391</td>\n",
       "      <td>0.005223</td>\n",
       "      <td>0.001949</td>\n",
       "      <td>0.024602</td>\n",
       "      <td>0.013538</td>\n",
       "      <td>-0.019610</td>\n",
       "      <td>0.082290</td>\n",
       "      <td>-0.009335</td>\n",
       "      <td>0.016648</td>\n",
       "      <td>...</td>\n",
       "      <td>-0.007143</td>\n",
       "      <td>-0.002481</td>\n",
       "      <td>-0.014160</td>\n",
       "      <td>-0.006464</td>\n",
       "      <td>0.005452</td>\n",
       "      <td>0.010710</td>\n",
       "      <td>-0.007890</td>\n",
       "      <td>0.003952</td>\n",
       "      <td>0.003624</td>\n",
       "      <td>2</td>\n",
       "    </tr>\n",
       "    <tr>\n",
       "      <th>3</th>\n",
       "      <td>0.025699</td>\n",
       "      <td>-0.000123</td>\n",
       "      <td>0.028008</td>\n",
       "      <td>-0.000756</td>\n",
       "      <td>0.000757</td>\n",
       "      <td>0.033766</td>\n",
       "      <td>0.006393</td>\n",
       "      <td>-0.000743</td>\n",
       "      <td>-0.004234</td>\n",
       "      <td>0.001167</td>\n",
       "      <td>...</td>\n",
       "      <td>-0.012409</td>\n",
       "      <td>-0.002101</td>\n",
       "      <td>-0.033175</td>\n",
       "      <td>-0.018218</td>\n",
       "      <td>-0.030952</td>\n",
       "      <td>0.034621</td>\n",
       "      <td>-0.015034</td>\n",
       "      <td>-0.011096</td>\n",
       "      <td>-0.000550</td>\n",
       "      <td>3</td>\n",
       "    </tr>\n",
       "    <tr>\n",
       "      <th>4</th>\n",
       "      <td>0.099710</td>\n",
       "      <td>-0.001300</td>\n",
       "      <td>0.028950</td>\n",
       "      <td>-0.003484</td>\n",
       "      <td>-0.008644</td>\n",
       "      <td>0.069895</td>\n",
       "      <td>0.014720</td>\n",
       "      <td>-0.002508</td>\n",
       "      <td>-0.008597</td>\n",
       "      <td>0.004705</td>\n",
       "      <td>...</td>\n",
       "      <td>-0.005265</td>\n",
       "      <td>0.013356</td>\n",
       "      <td>-0.031088</td>\n",
       "      <td>0.009554</td>\n",
       "      <td>0.004346</td>\n",
       "      <td>0.058679</td>\n",
       "      <td>0.000794</td>\n",
       "      <td>0.010145</td>\n",
       "      <td>-0.036085</td>\n",
       "      <td>4</td>\n",
       "    </tr>\n",
       "    <tr>\n",
       "      <th>5</th>\n",
       "      <td>0.059480</td>\n",
       "      <td>-0.000102</td>\n",
       "      <td>0.083627</td>\n",
       "      <td>-0.001704</td>\n",
       "      <td>0.003635</td>\n",
       "      <td>-0.008453</td>\n",
       "      <td>-0.001699</td>\n",
       "      <td>0.017315</td>\n",
       "      <td>0.003003</td>\n",
       "      <td>0.003468</td>\n",
       "      <td>...</td>\n",
       "      <td>0.004267</td>\n",
       "      <td>-0.012850</td>\n",
       "      <td>-0.066092</td>\n",
       "      <td>-0.015030</td>\n",
       "      <td>-0.009652</td>\n",
       "      <td>0.028920</td>\n",
       "      <td>-0.037854</td>\n",
       "      <td>0.051414</td>\n",
       "      <td>-0.041663</td>\n",
       "      <td>5</td>\n",
       "    </tr>\n",
       "  </tbody>\n",
       "</table>\n",
       "<p>5 rows × 129 columns</p>\n",
       "</div>"
      ],
      "text/plain": [
       "   SVD_latent_0  SVD_latent_1  SVD_latent_2  SVD_latent_3  SVD_latent_4  \\\n",
       "1      0.040733      0.000288      0.051061      0.002787      0.028925   \n",
       "2      0.013167      0.000391      0.005223      0.001949      0.024602   \n",
       "3      0.025699     -0.000123      0.028008     -0.000756      0.000757   \n",
       "4      0.099710     -0.001300      0.028950     -0.003484     -0.008644   \n",
       "5      0.059480     -0.000102      0.083627     -0.001704      0.003635   \n",
       "\n",
       "   SVD_latent_5  SVD_latent_6  SVD_latent_7  SVD_latent_8  SVD_latent_9  ...  \\\n",
       "1      0.011605     -0.090231      0.293034     -0.019821      0.198646  ...   \n",
       "2      0.013538     -0.019610      0.082290     -0.009335      0.016648  ...   \n",
       "3      0.033766      0.006393     -0.000743     -0.004234      0.001167  ...   \n",
       "4      0.069895      0.014720     -0.002508     -0.008597      0.004705  ...   \n",
       "5     -0.008453     -0.001699      0.017315      0.003003      0.003468  ...   \n",
       "\n",
       "   SVD_latent_119  SVD_latent_120  SVD_latent_121  SVD_latent_122  \\\n",
       "1       -0.022449       -0.017143       -0.008737       -0.010099   \n",
       "2       -0.007143       -0.002481       -0.014160       -0.006464   \n",
       "3       -0.012409       -0.002101       -0.033175       -0.018218   \n",
       "4       -0.005265        0.013356       -0.031088        0.009554   \n",
       "5        0.004267       -0.012850       -0.066092       -0.015030   \n",
       "\n",
       "   SVD_latent_123  SVD_latent_124  SVD_latent_125  SVD_latent_126  \\\n",
       "1       -0.006274        0.029068        0.013725       -0.002295   \n",
       "2        0.005452        0.010710       -0.007890        0.003952   \n",
       "3       -0.030952        0.034621       -0.015034       -0.011096   \n",
       "4        0.004346        0.058679        0.000794        0.010145   \n",
       "5       -0.009652        0.028920       -0.037854        0.051414   \n",
       "\n",
       "   SVD_latent_127  movieId  \n",
       "1        0.001604        1  \n",
       "2        0.003624        2  \n",
       "3       -0.000550        3  \n",
       "4       -0.036085        4  \n",
       "5       -0.041663        5  \n",
       "\n",
       "[5 rows x 129 columns]"
      ]
     },
     "execution_count": 39,
     "metadata": {},
     "output_type": "execute_result"
    }
   ],
   "source": [
    "latent_matrix_1_df.head()"
   ]
  },
  {
   "cell_type": "code",
   "execution_count": 40,
   "metadata": {},
   "outputs": [],
   "source": [
    "movies = movies.merge(latent_matrix_1_df, on='movieId', how='left')"
   ]
  },
  {
   "cell_type": "code",
   "execution_count": 41,
   "metadata": {},
   "outputs": [
    {
     "data": {
      "text/html": [
       "<div>\n",
       "<style scoped>\n",
       "    .dataframe tbody tr th:only-of-type {\n",
       "        vertical-align: middle;\n",
       "    }\n",
       "\n",
       "    .dataframe tbody tr th {\n",
       "        vertical-align: top;\n",
       "    }\n",
       "\n",
       "    .dataframe thead th {\n",
       "        text-align: right;\n",
       "    }\n",
       "</style>\n",
       "<table border=\"1\" class=\"dataframe\">\n",
       "  <thead>\n",
       "    <tr style=\"text-align: right;\">\n",
       "      <th></th>\n",
       "      <th>movieId</th>\n",
       "      <th>title</th>\n",
       "      <th>genres</th>\n",
       "      <th>userId_count</th>\n",
       "      <th>rating_mean</th>\n",
       "      <th>year</th>\n",
       "      <th>year_cat</th>\n",
       "      <th>Adventure</th>\n",
       "      <th>Animation</th>\n",
       "      <th>Children</th>\n",
       "      <th>...</th>\n",
       "      <th>SVD_latent_118</th>\n",
       "      <th>SVD_latent_119</th>\n",
       "      <th>SVD_latent_120</th>\n",
       "      <th>SVD_latent_121</th>\n",
       "      <th>SVD_latent_122</th>\n",
       "      <th>SVD_latent_123</th>\n",
       "      <th>SVD_latent_124</th>\n",
       "      <th>SVD_latent_125</th>\n",
       "      <th>SVD_latent_126</th>\n",
       "      <th>SVD_latent_127</th>\n",
       "    </tr>\n",
       "  </thead>\n",
       "  <tbody>\n",
       "    <tr>\n",
       "      <th>0</th>\n",
       "      <td>1</td>\n",
       "      <td>Toy Story (1995)</td>\n",
       "      <td>Adventure Animation Children Comedy Fantasy</td>\n",
       "      <td>57309.0</td>\n",
       "      <td>3.893708</td>\n",
       "      <td>1995.0</td>\n",
       "      <td>1995.0</td>\n",
       "      <td>1.0</td>\n",
       "      <td>1.0</td>\n",
       "      <td>1.0</td>\n",
       "      <td>...</td>\n",
       "      <td>-0.019055</td>\n",
       "      <td>-0.022449</td>\n",
       "      <td>-0.017143</td>\n",
       "      <td>-0.008737</td>\n",
       "      <td>-0.010099</td>\n",
       "      <td>-0.006274</td>\n",
       "      <td>0.029068</td>\n",
       "      <td>0.013725</td>\n",
       "      <td>-0.002295</td>\n",
       "      <td>0.001604</td>\n",
       "    </tr>\n",
       "    <tr>\n",
       "      <th>1</th>\n",
       "      <td>2</td>\n",
       "      <td>Jumanji (1995)</td>\n",
       "      <td>Adventure Children Fantasy</td>\n",
       "      <td>24228.0</td>\n",
       "      <td>3.251527</td>\n",
       "      <td>1995.0</td>\n",
       "      <td>1995.0</td>\n",
       "      <td>1.0</td>\n",
       "      <td>NaN</td>\n",
       "      <td>1.0</td>\n",
       "      <td>...</td>\n",
       "      <td>-0.003519</td>\n",
       "      <td>-0.007143</td>\n",
       "      <td>-0.002481</td>\n",
       "      <td>-0.014160</td>\n",
       "      <td>-0.006464</td>\n",
       "      <td>0.005452</td>\n",
       "      <td>0.010710</td>\n",
       "      <td>-0.007890</td>\n",
       "      <td>0.003952</td>\n",
       "      <td>0.003624</td>\n",
       "    </tr>\n",
       "    <tr>\n",
       "      <th>2</th>\n",
       "      <td>3</td>\n",
       "      <td>Grumpier Old Men (1995)</td>\n",
       "      <td>Comedy Romance</td>\n",
       "      <td>11804.0</td>\n",
       "      <td>3.142028</td>\n",
       "      <td>1995.0</td>\n",
       "      <td>1995.0</td>\n",
       "      <td>NaN</td>\n",
       "      <td>NaN</td>\n",
       "      <td>NaN</td>\n",
       "      <td>...</td>\n",
       "      <td>-0.004957</td>\n",
       "      <td>-0.012409</td>\n",
       "      <td>-0.002101</td>\n",
       "      <td>-0.033175</td>\n",
       "      <td>-0.018218</td>\n",
       "      <td>-0.030952</td>\n",
       "      <td>0.034621</td>\n",
       "      <td>-0.015034</td>\n",
       "      <td>-0.011096</td>\n",
       "      <td>-0.000550</td>\n",
       "    </tr>\n",
       "    <tr>\n",
       "      <th>3</th>\n",
       "      <td>4</td>\n",
       "      <td>Waiting to Exhale (1995)</td>\n",
       "      <td>Comedy Drama Romance</td>\n",
       "      <td>2523.0</td>\n",
       "      <td>2.853547</td>\n",
       "      <td>1995.0</td>\n",
       "      <td>1995.0</td>\n",
       "      <td>NaN</td>\n",
       "      <td>NaN</td>\n",
       "      <td>NaN</td>\n",
       "      <td>...</td>\n",
       "      <td>-0.030901</td>\n",
       "      <td>-0.005265</td>\n",
       "      <td>0.013356</td>\n",
       "      <td>-0.031088</td>\n",
       "      <td>0.009554</td>\n",
       "      <td>0.004346</td>\n",
       "      <td>0.058679</td>\n",
       "      <td>0.000794</td>\n",
       "      <td>0.010145</td>\n",
       "      <td>-0.036085</td>\n",
       "    </tr>\n",
       "    <tr>\n",
       "      <th>4</th>\n",
       "      <td>5</td>\n",
       "      <td>Father of the Bride Part II (1995)</td>\n",
       "      <td>Comedy</td>\n",
       "      <td>11714.0</td>\n",
       "      <td>3.058434</td>\n",
       "      <td>1995.0</td>\n",
       "      <td>1995.0</td>\n",
       "      <td>NaN</td>\n",
       "      <td>NaN</td>\n",
       "      <td>NaN</td>\n",
       "      <td>...</td>\n",
       "      <td>-0.009724</td>\n",
       "      <td>0.004267</td>\n",
       "      <td>-0.012850</td>\n",
       "      <td>-0.066092</td>\n",
       "      <td>-0.015030</td>\n",
       "      <td>-0.009652</td>\n",
       "      <td>0.028920</td>\n",
       "      <td>-0.037854</td>\n",
       "      <td>0.051414</td>\n",
       "      <td>-0.041663</td>\n",
       "    </tr>\n",
       "  </tbody>\n",
       "</table>\n",
       "<p>5 rows × 155 columns</p>\n",
       "</div>"
      ],
      "text/plain": [
       "   movieId                               title  \\\n",
       "0        1                    Toy Story (1995)   \n",
       "1        2                      Jumanji (1995)   \n",
       "2        3             Grumpier Old Men (1995)   \n",
       "3        4            Waiting to Exhale (1995)   \n",
       "4        5  Father of the Bride Part II (1995)   \n",
       "\n",
       "                                        genres  userId_count  rating_mean  \\\n",
       "0  Adventure Animation Children Comedy Fantasy       57309.0     3.893708   \n",
       "1                   Adventure Children Fantasy       24228.0     3.251527   \n",
       "2                               Comedy Romance       11804.0     3.142028   \n",
       "3                         Comedy Drama Romance        2523.0     2.853547   \n",
       "4                                       Comedy       11714.0     3.058434   \n",
       "\n",
       "     year  year_cat  Adventure  Animation  Children  ...  SVD_latent_118  \\\n",
       "0  1995.0    1995.0        1.0        1.0       1.0  ...       -0.019055   \n",
       "1  1995.0    1995.0        1.0        NaN       1.0  ...       -0.003519   \n",
       "2  1995.0    1995.0        NaN        NaN       NaN  ...       -0.004957   \n",
       "3  1995.0    1995.0        NaN        NaN       NaN  ...       -0.030901   \n",
       "4  1995.0    1995.0        NaN        NaN       NaN  ...       -0.009724   \n",
       "\n",
       "   SVD_latent_119  SVD_latent_120  SVD_latent_121  SVD_latent_122  \\\n",
       "0       -0.022449       -0.017143       -0.008737       -0.010099   \n",
       "1       -0.007143       -0.002481       -0.014160       -0.006464   \n",
       "2       -0.012409       -0.002101       -0.033175       -0.018218   \n",
       "3       -0.005265        0.013356       -0.031088        0.009554   \n",
       "4        0.004267       -0.012850       -0.066092       -0.015030   \n",
       "\n",
       "   SVD_latent_123  SVD_latent_124  SVD_latent_125  SVD_latent_126  \\\n",
       "0       -0.006274        0.029068        0.013725       -0.002295   \n",
       "1        0.005452        0.010710       -0.007890        0.003952   \n",
       "2       -0.030952        0.034621       -0.015034       -0.011096   \n",
       "3        0.004346        0.058679        0.000794        0.010145   \n",
       "4       -0.009652        0.028920       -0.037854        0.051414   \n",
       "\n",
       "   SVD_latent_127  \n",
       "0        0.001604  \n",
       "1        0.003624  \n",
       "2       -0.000550  \n",
       "3       -0.036085  \n",
       "4       -0.041663  \n",
       "\n",
       "[5 rows x 155 columns]"
      ]
     },
     "execution_count": 41,
     "metadata": {},
     "output_type": "execute_result"
    }
   ],
   "source": [
    "movies.head()"
   ]
  },
  {
   "cell_type": "code",
   "execution_count": 42,
   "metadata": {},
   "outputs": [],
   "source": [
    "numeric_features += ['SVD_latent_%d'%i for i in range(NUM_LATENT_FACTOR)]"
   ]
  },
  {
   "cell_type": "code",
   "execution_count": 43,
   "metadata": {},
   "outputs": [
    {
     "data": {
      "text/plain": [
       "['userId_count',\n",
       " 'rating_mean',\n",
       " 'year',\n",
       " 'SVD_latent_0',\n",
       " 'SVD_latent_1',\n",
       " 'SVD_latent_2',\n",
       " 'SVD_latent_3',\n",
       " 'SVD_latent_4',\n",
       " 'SVD_latent_5',\n",
       " 'SVD_latent_6',\n",
       " 'SVD_latent_7',\n",
       " 'SVD_latent_8',\n",
       " 'SVD_latent_9',\n",
       " 'SVD_latent_10',\n",
       " 'SVD_latent_11',\n",
       " 'SVD_latent_12',\n",
       " 'SVD_latent_13',\n",
       " 'SVD_latent_14',\n",
       " 'SVD_latent_15',\n",
       " 'SVD_latent_16',\n",
       " 'SVD_latent_17',\n",
       " 'SVD_latent_18',\n",
       " 'SVD_latent_19',\n",
       " 'SVD_latent_20',\n",
       " 'SVD_latent_21',\n",
       " 'SVD_latent_22',\n",
       " 'SVD_latent_23',\n",
       " 'SVD_latent_24',\n",
       " 'SVD_latent_25',\n",
       " 'SVD_latent_26',\n",
       " 'SVD_latent_27',\n",
       " 'SVD_latent_28',\n",
       " 'SVD_latent_29',\n",
       " 'SVD_latent_30',\n",
       " 'SVD_latent_31',\n",
       " 'SVD_latent_32',\n",
       " 'SVD_latent_33',\n",
       " 'SVD_latent_34',\n",
       " 'SVD_latent_35',\n",
       " 'SVD_latent_36',\n",
       " 'SVD_latent_37',\n",
       " 'SVD_latent_38',\n",
       " 'SVD_latent_39',\n",
       " 'SVD_latent_40',\n",
       " 'SVD_latent_41',\n",
       " 'SVD_latent_42',\n",
       " 'SVD_latent_43',\n",
       " 'SVD_latent_44',\n",
       " 'SVD_latent_45',\n",
       " 'SVD_latent_46',\n",
       " 'SVD_latent_47',\n",
       " 'SVD_latent_48',\n",
       " 'SVD_latent_49',\n",
       " 'SVD_latent_50',\n",
       " 'SVD_latent_51',\n",
       " 'SVD_latent_52',\n",
       " 'SVD_latent_53',\n",
       " 'SVD_latent_54',\n",
       " 'SVD_latent_55',\n",
       " 'SVD_latent_56',\n",
       " 'SVD_latent_57',\n",
       " 'SVD_latent_58',\n",
       " 'SVD_latent_59',\n",
       " 'SVD_latent_60',\n",
       " 'SVD_latent_61',\n",
       " 'SVD_latent_62',\n",
       " 'SVD_latent_63',\n",
       " 'SVD_latent_64',\n",
       " 'SVD_latent_65',\n",
       " 'SVD_latent_66',\n",
       " 'SVD_latent_67',\n",
       " 'SVD_latent_68',\n",
       " 'SVD_latent_69',\n",
       " 'SVD_latent_70',\n",
       " 'SVD_latent_71',\n",
       " 'SVD_latent_72',\n",
       " 'SVD_latent_73',\n",
       " 'SVD_latent_74',\n",
       " 'SVD_latent_75',\n",
       " 'SVD_latent_76',\n",
       " 'SVD_latent_77',\n",
       " 'SVD_latent_78',\n",
       " 'SVD_latent_79',\n",
       " 'SVD_latent_80',\n",
       " 'SVD_latent_81',\n",
       " 'SVD_latent_82',\n",
       " 'SVD_latent_83',\n",
       " 'SVD_latent_84',\n",
       " 'SVD_latent_85',\n",
       " 'SVD_latent_86',\n",
       " 'SVD_latent_87',\n",
       " 'SVD_latent_88',\n",
       " 'SVD_latent_89',\n",
       " 'SVD_latent_90',\n",
       " 'SVD_latent_91',\n",
       " 'SVD_latent_92',\n",
       " 'SVD_latent_93',\n",
       " 'SVD_latent_94',\n",
       " 'SVD_latent_95',\n",
       " 'SVD_latent_96',\n",
       " 'SVD_latent_97',\n",
       " 'SVD_latent_98',\n",
       " 'SVD_latent_99',\n",
       " 'SVD_latent_100',\n",
       " 'SVD_latent_101',\n",
       " 'SVD_latent_102',\n",
       " 'SVD_latent_103',\n",
       " 'SVD_latent_104',\n",
       " 'SVD_latent_105',\n",
       " 'SVD_latent_106',\n",
       " 'SVD_latent_107',\n",
       " 'SVD_latent_108',\n",
       " 'SVD_latent_109',\n",
       " 'SVD_latent_110',\n",
       " 'SVD_latent_111',\n",
       " 'SVD_latent_112',\n",
       " 'SVD_latent_113',\n",
       " 'SVD_latent_114',\n",
       " 'SVD_latent_115',\n",
       " 'SVD_latent_116',\n",
       " 'SVD_latent_117',\n",
       " 'SVD_latent_118',\n",
       " 'SVD_latent_119',\n",
       " 'SVD_latent_120',\n",
       " 'SVD_latent_121',\n",
       " 'SVD_latent_122',\n",
       " 'SVD_latent_123',\n",
       " 'SVD_latent_124',\n",
       " 'SVD_latent_125',\n",
       " 'SVD_latent_126',\n",
       " 'SVD_latent_127']"
      ]
     },
     "execution_count": 43,
     "metadata": {},
     "output_type": "execute_result"
    }
   ],
   "source": [
    "numeric_features"
   ]
  },
  {
   "cell_type": "markdown",
   "metadata": {},
   "source": [
    "#### SVD transform new movie"
   ]
  },
  {
   "cell_type": "code",
   "execution_count": 44,
   "metadata": {},
   "outputs": [],
   "source": [
    "latent_matrix = svd.transform(new_movie_feat)"
   ]
  },
  {
   "cell_type": "code",
   "execution_count": 45,
   "metadata": {},
   "outputs": [
    {
     "data": {
      "text/plain": [
       "(1, 128)"
      ]
     },
     "execution_count": 45,
     "metadata": {},
     "output_type": "execute_result"
    }
   ],
   "source": [
    "latent_matrix.shape"
   ]
  },
  {
   "cell_type": "code",
   "execution_count": 46,
   "metadata": {},
   "outputs": [],
   "source": [
    "with open('./assets/svd.pkl', 'wb') as f:\n",
    "    pickle.dump({\"svd\": svd}, f)"
   ]
  },
  {
   "cell_type": "markdown",
   "metadata": {},
   "source": [
    "##  Popularity score\n",
    "\n",
    "https://www.kaggle.com/rounakbanik/movie-recommender-systems?\n",
    "\n",
    "Weighted Rating (WR) = (v/(v+m).R)+(m/(v+m).C)\n",
    "\n",
    "where,\n",
    "\n",
    "    v is the number of votes for the movie\n",
    "    m is the minimum votes required to be listed in the chart\n",
    "    R is the average rating of the movie\n",
    "    C is the mean vote across the whole report\n"
   ]
  },
  {
   "cell_type": "code",
   "execution_count": 47,
   "metadata": {},
   "outputs": [
    {
     "data": {
      "text/plain": [
       "3.533854451353085"
      ]
     },
     "execution_count": 47,
     "metadata": {},
     "output_type": "execute_result"
    }
   ],
   "source": [
    "C = ratings['rating'].mean()\n",
    "C"
   ]
  },
  {
   "cell_type": "markdown",
   "metadata": {},
   "source": [
    "The next step is to determine an appropriate value for m, the minimum votes required to be listed in the chart. We will use 95th percentile as our cutoff. In other words, for a movie to feature in the charts, it must have more votes than at least 95% of the movies in the list."
   ]
  },
  {
   "cell_type": "code",
   "execution_count": 48,
   "metadata": {},
   "outputs": [
    {
     "data": {
      "text/plain": [
       "1503.3999999999942"
      ]
     },
     "execution_count": 48,
     "metadata": {},
     "output_type": "execute_result"
    }
   ],
   "source": [
    "m = movies_num_ratings['userId_count'].quantile(0.95)\n",
    "m"
   ]
  },
  {
   "cell_type": "markdown",
   "metadata": {},
   "source": [
    "\n",
    "\n",
    "Therefore, to qualify to be considered for the chart, a movie has to have at least 1503 votes on TMDB. We also see that the average rating for a movie on TMDB is 5.244 on a scale of 10. 2274 Movies qualify to be on our chart.\n"
   ]
  },
  {
   "cell_type": "code",
   "execution_count": 49,
   "metadata": {},
   "outputs": [],
   "source": [
    "qualified = movies[movies['userId_count'] >= m]"
   ]
  },
  {
   "cell_type": "code",
   "execution_count": 50,
   "metadata": {},
   "outputs": [
    {
     "data": {
      "text/plain": [
       "(2953, 155)"
      ]
     },
     "execution_count": 50,
     "metadata": {},
     "output_type": "execute_result"
    }
   ],
   "source": [
    "qualified.shape"
   ]
  },
  {
   "cell_type": "code",
   "execution_count": 51,
   "metadata": {},
   "outputs": [],
   "source": [
    "def weighted_rating(x):\n",
    "    v = x['userId_count']\n",
    "    R = x['rating_mean']\n",
    "    return (v/(v+m) * R) + (m/(m+v) * C)"
   ]
  },
  {
   "cell_type": "code",
   "execution_count": 52,
   "metadata": {},
   "outputs": [
    {
     "name": "stderr",
     "output_type": "stream",
     "text": [
      "<ipython-input-52-a4cac61d7166>:1: SettingWithCopyWarning: \n",
      "A value is trying to be set on a copy of a slice from a DataFrame.\n",
      "Try using .loc[row_indexer,col_indexer] = value instead\n",
      "\n",
      "See the caveats in the documentation: https://pandas.pydata.org/pandas-docs/stable/user_guide/indexing.html#returning-a-view-versus-a-copy\n",
      "  qualified['wr'] = qualified.apply(weighted_rating, axis=1)\n"
     ]
    }
   ],
   "source": [
    "qualified['wr'] = qualified.apply(weighted_rating, axis=1)"
   ]
  },
  {
   "cell_type": "code",
   "execution_count": 53,
   "metadata": {},
   "outputs": [],
   "source": [
    "qualified = qualified.sort_values('wr', ascending=False).head(250)"
   ]
  },
  {
   "cell_type": "code",
   "execution_count": 54,
   "metadata": {},
   "outputs": [
    {
     "data": {
      "text/html": [
       "<div>\n",
       "<style scoped>\n",
       "    .dataframe tbody tr th:only-of-type {\n",
       "        vertical-align: middle;\n",
       "    }\n",
       "\n",
       "    .dataframe tbody tr th {\n",
       "        vertical-align: top;\n",
       "    }\n",
       "\n",
       "    .dataframe thead th {\n",
       "        text-align: right;\n",
       "    }\n",
       "</style>\n",
       "<table border=\"1\" class=\"dataframe\">\n",
       "  <thead>\n",
       "    <tr style=\"text-align: right;\">\n",
       "      <th></th>\n",
       "      <th>movieId</th>\n",
       "      <th>title</th>\n",
       "      <th>genres</th>\n",
       "      <th>userId_count</th>\n",
       "      <th>rating_mean</th>\n",
       "      <th>year</th>\n",
       "      <th>year_cat</th>\n",
       "      <th>Adventure</th>\n",
       "      <th>Animation</th>\n",
       "      <th>Children</th>\n",
       "      <th>...</th>\n",
       "      <th>SVD_latent_119</th>\n",
       "      <th>SVD_latent_120</th>\n",
       "      <th>SVD_latent_121</th>\n",
       "      <th>SVD_latent_122</th>\n",
       "      <th>SVD_latent_123</th>\n",
       "      <th>SVD_latent_124</th>\n",
       "      <th>SVD_latent_125</th>\n",
       "      <th>SVD_latent_126</th>\n",
       "      <th>SVD_latent_127</th>\n",
       "      <th>wr</th>\n",
       "    </tr>\n",
       "  </thead>\n",
       "  <tbody>\n",
       "    <tr>\n",
       "      <th>314</th>\n",
       "      <td>318</td>\n",
       "      <td>Shawshank Redemption, The (1994)</td>\n",
       "      <td>Crime Drama</td>\n",
       "      <td>81482.0</td>\n",
       "      <td>4.413576</td>\n",
       "      <td>1994.0</td>\n",
       "      <td>1994.0</td>\n",
       "      <td>NaN</td>\n",
       "      <td>NaN</td>\n",
       "      <td>NaN</td>\n",
       "      <td>...</td>\n",
       "      <td>0.025920</td>\n",
       "      <td>0.030796</td>\n",
       "      <td>0.028525</td>\n",
       "      <td>-0.027145</td>\n",
       "      <td>0.017096</td>\n",
       "      <td>-0.019043</td>\n",
       "      <td>0.019874</td>\n",
       "      <td>0.032946</td>\n",
       "      <td>-0.000728</td>\n",
       "      <td>4.397639</td>\n",
       "    </tr>\n",
       "    <tr>\n",
       "      <th>840</th>\n",
       "      <td>858</td>\n",
       "      <td>Godfather, The (1972)</td>\n",
       "      <td>Crime Drama</td>\n",
       "      <td>52498.0</td>\n",
       "      <td>4.324336</td>\n",
       "      <td>1972.0</td>\n",
       "      <td>1972.0</td>\n",
       "      <td>NaN</td>\n",
       "      <td>NaN</td>\n",
       "      <td>NaN</td>\n",
       "      <td>...</td>\n",
       "      <td>0.024581</td>\n",
       "      <td>0.021631</td>\n",
       "      <td>-0.013779</td>\n",
       "      <td>0.007075</td>\n",
       "      <td>0.051917</td>\n",
       "      <td>-0.072988</td>\n",
       "      <td>0.086586</td>\n",
       "      <td>-0.023442</td>\n",
       "      <td>0.051104</td>\n",
       "      <td>4.302329</td>\n",
       "    </tr>\n",
       "    <tr>\n",
       "      <th>49</th>\n",
       "      <td>50</td>\n",
       "      <td>Usual Suspects, The (1995)</td>\n",
       "      <td>Crime Mystery Thriller</td>\n",
       "      <td>55366.0</td>\n",
       "      <td>4.284353</td>\n",
       "      <td>1995.0</td>\n",
       "      <td>1995.0</td>\n",
       "      <td>NaN</td>\n",
       "      <td>NaN</td>\n",
       "      <td>NaN</td>\n",
       "      <td>...</td>\n",
       "      <td>0.065105</td>\n",
       "      <td>0.037049</td>\n",
       "      <td>0.021507</td>\n",
       "      <td>-0.010153</td>\n",
       "      <td>0.007335</td>\n",
       "      <td>-0.056711</td>\n",
       "      <td>0.013939</td>\n",
       "      <td>-0.000463</td>\n",
       "      <td>0.041340</td>\n",
       "      <td>4.264513</td>\n",
       "    </tr>\n",
       "    <tr>\n",
       "      <th>1190</th>\n",
       "      <td>1221</td>\n",
       "      <td>Godfather: Part II, The (1974)</td>\n",
       "      <td>Crime Drama</td>\n",
       "      <td>34188.0</td>\n",
       "      <td>4.261759</td>\n",
       "      <td>1974.0</td>\n",
       "      <td>1974.0</td>\n",
       "      <td>NaN</td>\n",
       "      <td>NaN</td>\n",
       "      <td>NaN</td>\n",
       "      <td>...</td>\n",
       "      <td>0.018373</td>\n",
       "      <td>0.021855</td>\n",
       "      <td>-0.026541</td>\n",
       "      <td>0.005946</td>\n",
       "      <td>0.035619</td>\n",
       "      <td>-0.070620</td>\n",
       "      <td>0.076672</td>\n",
       "      <td>-0.020373</td>\n",
       "      <td>0.063375</td>\n",
       "      <td>4.231098</td>\n",
       "    </tr>\n",
       "    <tr>\n",
       "      <th>522</th>\n",
       "      <td>527</td>\n",
       "      <td>Schindler's List (1993)</td>\n",
       "      <td>Drama War</td>\n",
       "      <td>60411.0</td>\n",
       "      <td>4.247579</td>\n",
       "      <td>1993.0</td>\n",
       "      <td>1993.0</td>\n",
       "      <td>NaN</td>\n",
       "      <td>NaN</td>\n",
       "      <td>NaN</td>\n",
       "      <td>...</td>\n",
       "      <td>0.009005</td>\n",
       "      <td>-0.015035</td>\n",
       "      <td>0.034175</td>\n",
       "      <td>0.010885</td>\n",
       "      <td>0.003422</td>\n",
       "      <td>0.001237</td>\n",
       "      <td>0.005436</td>\n",
       "      <td>-0.017890</td>\n",
       "      <td>-0.014467</td>\n",
       "      <td>4.230248</td>\n",
       "    </tr>\n",
       "  </tbody>\n",
       "</table>\n",
       "<p>5 rows × 156 columns</p>\n",
       "</div>"
      ],
      "text/plain": [
       "      movieId                             title                  genres  \\\n",
       "314       318  Shawshank Redemption, The (1994)             Crime Drama   \n",
       "840       858             Godfather, The (1972)             Crime Drama   \n",
       "49         50        Usual Suspects, The (1995)  Crime Mystery Thriller   \n",
       "1190     1221    Godfather: Part II, The (1974)             Crime Drama   \n",
       "522       527           Schindler's List (1993)               Drama War   \n",
       "\n",
       "      userId_count  rating_mean    year  year_cat  Adventure  Animation  \\\n",
       "314        81482.0     4.413576  1994.0    1994.0        NaN        NaN   \n",
       "840        52498.0     4.324336  1972.0    1972.0        NaN        NaN   \n",
       "49         55366.0     4.284353  1995.0    1995.0        NaN        NaN   \n",
       "1190       34188.0     4.261759  1974.0    1974.0        NaN        NaN   \n",
       "522        60411.0     4.247579  1993.0    1993.0        NaN        NaN   \n",
       "\n",
       "      Children  ...  SVD_latent_119  SVD_latent_120  SVD_latent_121  \\\n",
       "314        NaN  ...        0.025920        0.030796        0.028525   \n",
       "840        NaN  ...        0.024581        0.021631       -0.013779   \n",
       "49         NaN  ...        0.065105        0.037049        0.021507   \n",
       "1190       NaN  ...        0.018373        0.021855       -0.026541   \n",
       "522        NaN  ...        0.009005       -0.015035        0.034175   \n",
       "\n",
       "      SVD_latent_122  SVD_latent_123  SVD_latent_124  SVD_latent_125  \\\n",
       "314        -0.027145        0.017096       -0.019043        0.019874   \n",
       "840         0.007075        0.051917       -0.072988        0.086586   \n",
       "49         -0.010153        0.007335       -0.056711        0.013939   \n",
       "1190        0.005946        0.035619       -0.070620        0.076672   \n",
       "522         0.010885        0.003422        0.001237        0.005436   \n",
       "\n",
       "      SVD_latent_126  SVD_latent_127        wr  \n",
       "314         0.032946       -0.000728  4.397639  \n",
       "840        -0.023442        0.051104  4.302329  \n",
       "49         -0.000463        0.041340  4.264513  \n",
       "1190       -0.020373        0.063375  4.231098  \n",
       "522        -0.017890       -0.014467  4.230248  \n",
       "\n",
       "[5 rows x 156 columns]"
      ]
     },
     "execution_count": 54,
     "metadata": {},
     "output_type": "execute_result"
    }
   ],
   "source": [
    "qualified.head(5)"
   ]
  },
  {
   "cell_type": "code",
   "execution_count": 55,
   "metadata": {},
   "outputs": [],
   "source": [
    "cat_features += [g for g in genres]"
   ]
  },
  {
   "cell_type": "code",
   "execution_count": 56,
   "metadata": {},
   "outputs": [
    {
     "data": {
      "text/plain": [
       "['year_cat',\n",
       " 'genres',\n",
       " 'Crime',\n",
       " 'Thriller',\n",
       " 'Animation',\n",
       " 'Children',\n",
       " 'Film-Noir',\n",
       " 'Drama',\n",
       " 'Romance',\n",
       " 'Comedy',\n",
       " 'Sci-Fi',\n",
       " 'War',\n",
       " 'Documentary',\n",
       " '(no genres listed)',\n",
       " 'Mystery',\n",
       " 'IMAX',\n",
       " 'Adventure',\n",
       " 'Horror',\n",
       " 'Action',\n",
       " 'Musical',\n",
       " 'Fantasy',\n",
       " 'Western']"
      ]
     },
     "execution_count": 56,
     "metadata": {},
     "output_type": "execute_result"
    }
   ],
   "source": [
    "cat_features"
   ]
  },
  {
   "cell_type": "markdown",
   "metadata": {},
   "source": [
    "### Popularity score per genre"
   ]
  },
  {
   "cell_type": "code",
   "execution_count": 57,
   "metadata": {},
   "outputs": [],
   "source": [
    "def build_chart(genre, percentile=0.85):\n",
    "    df = movies[movies[genre] == 1] #filter out genre\n",
    "    \n",
    "    C = ratings['rating'].mean()\n",
    "    m = movies_num_ratings['userId_count'].quantile(percentile)\n",
    "    \n",
    "    qualified = df[df['userId_count'] >= m]\n",
    "    qualified['%s_wr'%genre] = qualified.apply(weighted_rating, axis=1)\n",
    "    \n",
    "    qualified = qualified.sort_values('%s_wr'%genre, ascending=False).head(250)\n",
    "    qualified.reset_index(inplace=True, drop=True)\n",
    "    qualified['%s_rank'%genre] = qualified.index\n",
    "    \n",
    "    return qualified"
   ]
  },
  {
   "cell_type": "code",
   "execution_count": 58,
   "metadata": {},
   "outputs": [
    {
     "name": "stderr",
     "output_type": "stream",
     "text": [
      "  0%|          | 0/20 [00:00<?, ?it/s]<ipython-input-57-97b558b0f7e9>:8: SettingWithCopyWarning: \n",
      "A value is trying to be set on a copy of a slice from a DataFrame.\n",
      "Try using .loc[row_indexer,col_indexer] = value instead\n",
      "\n",
      "See the caveats in the documentation: https://pandas.pydata.org/pandas-docs/stable/user_guide/indexing.html#returning-a-view-versus-a-copy\n",
      "  qualified['%s_wr'%genre] = qualified.apply(weighted_rating, axis=1)\n",
      "  5%|▌         | 1/20 [00:00<00:03,  4.87it/s]<ipython-input-57-97b558b0f7e9>:8: SettingWithCopyWarning: \n",
      "A value is trying to be set on a copy of a slice from a DataFrame.\n",
      "Try using .loc[row_indexer,col_indexer] = value instead\n",
      "\n",
      "See the caveats in the documentation: https://pandas.pydata.org/pandas-docs/stable/user_guide/indexing.html#returning-a-view-versus-a-copy\n",
      "  qualified['%s_wr'%genre] = qualified.apply(weighted_rating, axis=1)\n",
      " 10%|█         | 2/20 [00:00<00:04,  4.12it/s]<ipython-input-57-97b558b0f7e9>:8: SettingWithCopyWarning: \n",
      "A value is trying to be set on a copy of a slice from a DataFrame.\n",
      "Try using .loc[row_indexer,col_indexer] = value instead\n",
      "\n",
      "See the caveats in the documentation: https://pandas.pydata.org/pandas-docs/stable/user_guide/indexing.html#returning-a-view-versus-a-copy\n",
      "  qualified['%s_wr'%genre] = qualified.apply(weighted_rating, axis=1)\n",
      " 15%|█▌        | 3/20 [00:00<00:04,  4.10it/s]<ipython-input-57-97b558b0f7e9>:8: SettingWithCopyWarning: \n",
      "A value is trying to be set on a copy of a slice from a DataFrame.\n",
      "Try using .loc[row_indexer,col_indexer] = value instead\n",
      "\n",
      "See the caveats in the documentation: https://pandas.pydata.org/pandas-docs/stable/user_guide/indexing.html#returning-a-view-versus-a-copy\n",
      "  qualified['%s_wr'%genre] = qualified.apply(weighted_rating, axis=1)\n",
      " 20%|██        | 4/20 [00:00<00:03,  4.07it/s]<ipython-input-57-97b558b0f7e9>:8: SettingWithCopyWarning: \n",
      "A value is trying to be set on a copy of a slice from a DataFrame.\n",
      "Try using .loc[row_indexer,col_indexer] = value instead\n",
      "\n",
      "See the caveats in the documentation: https://pandas.pydata.org/pandas-docs/stable/user_guide/indexing.html#returning-a-view-versus-a-copy\n",
      "  qualified['%s_wr'%genre] = qualified.apply(weighted_rating, axis=1)\n",
      " 25%|██▌       | 5/20 [00:01<00:03,  4.11it/s]<ipython-input-57-97b558b0f7e9>:8: SettingWithCopyWarning: \n",
      "A value is trying to be set on a copy of a slice from a DataFrame.\n",
      "Try using .loc[row_indexer,col_indexer] = value instead\n",
      "\n",
      "See the caveats in the documentation: https://pandas.pydata.org/pandas-docs/stable/user_guide/indexing.html#returning-a-view-versus-a-copy\n",
      "  qualified['%s_wr'%genre] = qualified.apply(weighted_rating, axis=1)\n",
      " 30%|███       | 6/20 [00:01<00:03,  3.73it/s]<ipython-input-57-97b558b0f7e9>:8: SettingWithCopyWarning: \n",
      "A value is trying to be set on a copy of a slice from a DataFrame.\n",
      "Try using .loc[row_indexer,col_indexer] = value instead\n",
      "\n",
      "See the caveats in the documentation: https://pandas.pydata.org/pandas-docs/stable/user_guide/indexing.html#returning-a-view-versus-a-copy\n",
      "  qualified['%s_wr'%genre] = qualified.apply(weighted_rating, axis=1)\n",
      " 35%|███▌      | 7/20 [00:01<00:03,  3.73it/s]<ipython-input-57-97b558b0f7e9>:8: SettingWithCopyWarning: \n",
      "A value is trying to be set on a copy of a slice from a DataFrame.\n",
      "Try using .loc[row_indexer,col_indexer] = value instead\n",
      "\n",
      "See the caveats in the documentation: https://pandas.pydata.org/pandas-docs/stable/user_guide/indexing.html#returning-a-view-versus-a-copy\n",
      "  qualified['%s_wr'%genre] = qualified.apply(weighted_rating, axis=1)\n",
      " 40%|████      | 8/20 [00:02<00:03,  3.57it/s]<ipython-input-57-97b558b0f7e9>:8: SettingWithCopyWarning: \n",
      "A value is trying to be set on a copy of a slice from a DataFrame.\n",
      "Try using .loc[row_indexer,col_indexer] = value instead\n",
      "\n",
      "See the caveats in the documentation: https://pandas.pydata.org/pandas-docs/stable/user_guide/indexing.html#returning-a-view-versus-a-copy\n",
      "  qualified['%s_wr'%genre] = qualified.apply(weighted_rating, axis=1)\n",
      " 45%|████▌     | 9/20 [00:02<00:03,  3.66it/s]<ipython-input-57-97b558b0f7e9>:8: SettingWithCopyWarning: \n",
      "A value is trying to be set on a copy of a slice from a DataFrame.\n",
      "Try using .loc[row_indexer,col_indexer] = value instead\n",
      "\n",
      "See the caveats in the documentation: https://pandas.pydata.org/pandas-docs/stable/user_guide/indexing.html#returning-a-view-versus-a-copy\n",
      "  qualified['%s_wr'%genre] = qualified.apply(weighted_rating, axis=1)\n",
      " 50%|█████     | 10/20 [00:02<00:02,  3.76it/s]<ipython-input-57-97b558b0f7e9>:8: SettingWithCopyWarning: \n",
      "A value is trying to be set on a copy of a slice from a DataFrame.\n",
      "Try using .loc[row_indexer,col_indexer] = value instead\n",
      "\n",
      "See the caveats in the documentation: https://pandas.pydata.org/pandas-docs/stable/user_guide/indexing.html#returning-a-view-versus-a-copy\n",
      "  qualified['%s_wr'%genre] = qualified.apply(weighted_rating, axis=1)\n",
      " 55%|█████▌    | 11/20 [00:02<00:02,  3.80it/s]<ipython-input-57-97b558b0f7e9>:8: SettingWithCopyWarning: \n",
      "A value is trying to be set on a copy of a slice from a DataFrame.\n",
      "Try using .loc[row_indexer,col_indexer] = value instead\n",
      "\n",
      "See the caveats in the documentation: https://pandas.pydata.org/pandas-docs/stable/user_guide/indexing.html#returning-a-view-versus-a-copy\n",
      "  qualified['%s_wr'%genre] = qualified.apply(weighted_rating, axis=1)\n",
      " 60%|██████    | 12/20 [00:03<00:02,  3.85it/s]<ipython-input-57-97b558b0f7e9>:8: SettingWithCopyWarning: \n",
      "A value is trying to be set on a copy of a slice from a DataFrame.\n",
      "Try using .loc[row_indexer,col_indexer] = value instead\n",
      "\n",
      "See the caveats in the documentation: https://pandas.pydata.org/pandas-docs/stable/user_guide/indexing.html#returning-a-view-versus-a-copy\n",
      "  qualified['%s_wr'%genre] = qualified.apply(weighted_rating, axis=1)\n",
      " 65%|██████▌   | 13/20 [00:03<00:01,  3.87it/s]<ipython-input-57-97b558b0f7e9>:8: SettingWithCopyWarning: \n",
      "A value is trying to be set on a copy of a slice from a DataFrame.\n",
      "Try using .loc[row_indexer,col_indexer] = value instead\n",
      "\n",
      "See the caveats in the documentation: https://pandas.pydata.org/pandas-docs/stable/user_guide/indexing.html#returning-a-view-versus-a-copy\n",
      "  qualified['%s_wr'%genre] = qualified.apply(weighted_rating, axis=1)\n",
      " 70%|███████   | 14/20 [00:03<00:01,  3.92it/s]<ipython-input-57-97b558b0f7e9>:8: SettingWithCopyWarning: \n",
      "A value is trying to be set on a copy of a slice from a DataFrame.\n",
      "Try using .loc[row_indexer,col_indexer] = value instead\n",
      "\n",
      "See the caveats in the documentation: https://pandas.pydata.org/pandas-docs/stable/user_guide/indexing.html#returning-a-view-versus-a-copy\n",
      "  qualified['%s_wr'%genre] = qualified.apply(weighted_rating, axis=1)\n",
      " 75%|███████▌  | 15/20 [00:03<00:01,  3.86it/s]<ipython-input-57-97b558b0f7e9>:8: SettingWithCopyWarning: \n",
      "A value is trying to be set on a copy of a slice from a DataFrame.\n",
      "Try using .loc[row_indexer,col_indexer] = value instead\n",
      "\n",
      "See the caveats in the documentation: https://pandas.pydata.org/pandas-docs/stable/user_guide/indexing.html#returning-a-view-versus-a-copy\n",
      "  qualified['%s_wr'%genre] = qualified.apply(weighted_rating, axis=1)\n",
      " 80%|████████  | 16/20 [00:04<00:01,  3.82it/s]<ipython-input-57-97b558b0f7e9>:8: SettingWithCopyWarning: \n",
      "A value is trying to be set on a copy of a slice from a DataFrame.\n",
      "Try using .loc[row_indexer,col_indexer] = value instead\n",
      "\n",
      "See the caveats in the documentation: https://pandas.pydata.org/pandas-docs/stable/user_guide/indexing.html#returning-a-view-versus-a-copy\n",
      "  qualified['%s_wr'%genre] = qualified.apply(weighted_rating, axis=1)\n",
      " 85%|████████▌ | 17/20 [00:04<00:00,  3.74it/s]<ipython-input-57-97b558b0f7e9>:8: SettingWithCopyWarning: \n",
      "A value is trying to be set on a copy of a slice from a DataFrame.\n",
      "Try using .loc[row_indexer,col_indexer] = value instead\n",
      "\n",
      "See the caveats in the documentation: https://pandas.pydata.org/pandas-docs/stable/user_guide/indexing.html#returning-a-view-versus-a-copy\n",
      "  qualified['%s_wr'%genre] = qualified.apply(weighted_rating, axis=1)\n",
      " 90%|█████████ | 18/20 [00:04<00:00,  3.79it/s]<ipython-input-57-97b558b0f7e9>:8: SettingWithCopyWarning: \n",
      "A value is trying to be set on a copy of a slice from a DataFrame.\n",
      "Try using .loc[row_indexer,col_indexer] = value instead\n",
      "\n",
      "See the caveats in the documentation: https://pandas.pydata.org/pandas-docs/stable/user_guide/indexing.html#returning-a-view-versus-a-copy\n",
      "  qualified['%s_wr'%genre] = qualified.apply(weighted_rating, axis=1)\n",
      " 95%|█████████▌| 19/20 [00:04<00:00,  3.78it/s]<ipython-input-57-97b558b0f7e9>:8: SettingWithCopyWarning: \n",
      "A value is trying to be set on a copy of a slice from a DataFrame.\n",
      "Try using .loc[row_indexer,col_indexer] = value instead\n",
      "\n",
      "See the caveats in the documentation: https://pandas.pydata.org/pandas-docs/stable/user_guide/indexing.html#returning-a-view-versus-a-copy\n",
      "  qualified['%s_wr'%genre] = qualified.apply(weighted_rating, axis=1)\n",
      "100%|██████████| 20/20 [00:05<00:00,  3.84it/s]\n"
     ]
    }
   ],
   "source": [
    "for genre in tqdm(genres):\n",
    "     chart = build_chart(genre)\n",
    "     movies = movies.merge(chart[[\"movieId\", \"%s_wr\"%genre, \"%s_rank\"%genre]], on='movieId', how='left')\n",
    "\n",
    "    "
   ]
  },
  {
   "cell_type": "code",
   "execution_count": 59,
   "metadata": {},
   "outputs": [],
   "source": [
    "movies.fillna(0, inplace=True)"
   ]
  },
  {
   "cell_type": "code",
   "execution_count": 60,
   "metadata": {},
   "outputs": [
    {
     "data": {
      "text/html": [
       "<div>\n",
       "<style scoped>\n",
       "    .dataframe tbody tr th:only-of-type {\n",
       "        vertical-align: middle;\n",
       "    }\n",
       "\n",
       "    .dataframe tbody tr th {\n",
       "        vertical-align: top;\n",
       "    }\n",
       "\n",
       "    .dataframe thead th {\n",
       "        text-align: right;\n",
       "    }\n",
       "</style>\n",
       "<table border=\"1\" class=\"dataframe\">\n",
       "  <thead>\n",
       "    <tr style=\"text-align: right;\">\n",
       "      <th></th>\n",
       "      <th>movieId</th>\n",
       "      <th>title</th>\n",
       "      <th>genres</th>\n",
       "      <th>userId_count</th>\n",
       "      <th>rating_mean</th>\n",
       "      <th>year</th>\n",
       "      <th>year_cat</th>\n",
       "      <th>Adventure</th>\n",
       "      <th>Animation</th>\n",
       "      <th>Children</th>\n",
       "      <th>...</th>\n",
       "      <th>Horror_wr</th>\n",
       "      <th>Horror_rank</th>\n",
       "      <th>Action_wr</th>\n",
       "      <th>Action_rank</th>\n",
       "      <th>Musical_wr</th>\n",
       "      <th>Musical_rank</th>\n",
       "      <th>Fantasy_wr</th>\n",
       "      <th>Fantasy_rank</th>\n",
       "      <th>Western_wr</th>\n",
       "      <th>Western_rank</th>\n",
       "    </tr>\n",
       "  </thead>\n",
       "  <tbody>\n",
       "    <tr>\n",
       "      <th>0</th>\n",
       "      <td>1</td>\n",
       "      <td>Toy Story (1995)</td>\n",
       "      <td>Adventure Animation Children Comedy Fantasy</td>\n",
       "      <td>57309.0</td>\n",
       "      <td>3.893708</td>\n",
       "      <td>1995.0</td>\n",
       "      <td>1995.0</td>\n",
       "      <td>1.0</td>\n",
       "      <td>1.0</td>\n",
       "      <td>1.0</td>\n",
       "      <td>...</td>\n",
       "      <td>0.0</td>\n",
       "      <td>0.0</td>\n",
       "      <td>0.0</td>\n",
       "      <td>0.0</td>\n",
       "      <td>0.0</td>\n",
       "      <td>0.0</td>\n",
       "      <td>3.884509</td>\n",
       "      <td>19.0</td>\n",
       "      <td>0.0</td>\n",
       "      <td>0.0</td>\n",
       "    </tr>\n",
       "    <tr>\n",
       "      <th>1</th>\n",
       "      <td>2</td>\n",
       "      <td>Jumanji (1995)</td>\n",
       "      <td>Adventure Children Fantasy</td>\n",
       "      <td>24228.0</td>\n",
       "      <td>3.251527</td>\n",
       "      <td>1995.0</td>\n",
       "      <td>1995.0</td>\n",
       "      <td>1.0</td>\n",
       "      <td>0.0</td>\n",
       "      <td>1.0</td>\n",
       "      <td>...</td>\n",
       "      <td>0.0</td>\n",
       "      <td>0.0</td>\n",
       "      <td>0.0</td>\n",
       "      <td>0.0</td>\n",
       "      <td>0.0</td>\n",
       "      <td>0.0</td>\n",
       "      <td>0.000000</td>\n",
       "      <td>0.0</td>\n",
       "      <td>0.0</td>\n",
       "      <td>0.0</td>\n",
       "    </tr>\n",
       "    <tr>\n",
       "      <th>2</th>\n",
       "      <td>3</td>\n",
       "      <td>Grumpier Old Men (1995)</td>\n",
       "      <td>Comedy Romance</td>\n",
       "      <td>11804.0</td>\n",
       "      <td>3.142028</td>\n",
       "      <td>1995.0</td>\n",
       "      <td>1995.0</td>\n",
       "      <td>0.0</td>\n",
       "      <td>0.0</td>\n",
       "      <td>0.0</td>\n",
       "      <td>...</td>\n",
       "      <td>0.0</td>\n",
       "      <td>0.0</td>\n",
       "      <td>0.0</td>\n",
       "      <td>0.0</td>\n",
       "      <td>0.0</td>\n",
       "      <td>0.0</td>\n",
       "      <td>0.000000</td>\n",
       "      <td>0.0</td>\n",
       "      <td>0.0</td>\n",
       "      <td>0.0</td>\n",
       "    </tr>\n",
       "    <tr>\n",
       "      <th>3</th>\n",
       "      <td>4</td>\n",
       "      <td>Waiting to Exhale (1995)</td>\n",
       "      <td>Comedy Drama Romance</td>\n",
       "      <td>2523.0</td>\n",
       "      <td>2.853547</td>\n",
       "      <td>1995.0</td>\n",
       "      <td>1995.0</td>\n",
       "      <td>0.0</td>\n",
       "      <td>0.0</td>\n",
       "      <td>0.0</td>\n",
       "      <td>...</td>\n",
       "      <td>0.0</td>\n",
       "      <td>0.0</td>\n",
       "      <td>0.0</td>\n",
       "      <td>0.0</td>\n",
       "      <td>0.0</td>\n",
       "      <td>0.0</td>\n",
       "      <td>0.000000</td>\n",
       "      <td>0.0</td>\n",
       "      <td>0.0</td>\n",
       "      <td>0.0</td>\n",
       "    </tr>\n",
       "    <tr>\n",
       "      <th>4</th>\n",
       "      <td>5</td>\n",
       "      <td>Father of the Bride Part II (1995)</td>\n",
       "      <td>Comedy</td>\n",
       "      <td>11714.0</td>\n",
       "      <td>3.058434</td>\n",
       "      <td>1995.0</td>\n",
       "      <td>1995.0</td>\n",
       "      <td>0.0</td>\n",
       "      <td>0.0</td>\n",
       "      <td>0.0</td>\n",
       "      <td>...</td>\n",
       "      <td>0.0</td>\n",
       "      <td>0.0</td>\n",
       "      <td>0.0</td>\n",
       "      <td>0.0</td>\n",
       "      <td>0.0</td>\n",
       "      <td>0.0</td>\n",
       "      <td>0.000000</td>\n",
       "      <td>0.0</td>\n",
       "      <td>0.0</td>\n",
       "      <td>0.0</td>\n",
       "    </tr>\n",
       "  </tbody>\n",
       "</table>\n",
       "<p>5 rows × 195 columns</p>\n",
       "</div>"
      ],
      "text/plain": [
       "   movieId                               title  \\\n",
       "0        1                    Toy Story (1995)   \n",
       "1        2                      Jumanji (1995)   \n",
       "2        3             Grumpier Old Men (1995)   \n",
       "3        4            Waiting to Exhale (1995)   \n",
       "4        5  Father of the Bride Part II (1995)   \n",
       "\n",
       "                                        genres  userId_count  rating_mean  \\\n",
       "0  Adventure Animation Children Comedy Fantasy       57309.0     3.893708   \n",
       "1                   Adventure Children Fantasy       24228.0     3.251527   \n",
       "2                               Comedy Romance       11804.0     3.142028   \n",
       "3                         Comedy Drama Romance        2523.0     2.853547   \n",
       "4                                       Comedy       11714.0     3.058434   \n",
       "\n",
       "     year  year_cat  Adventure  Animation  Children  ...  Horror_wr  \\\n",
       "0  1995.0    1995.0        1.0        1.0       1.0  ...        0.0   \n",
       "1  1995.0    1995.0        1.0        0.0       1.0  ...        0.0   \n",
       "2  1995.0    1995.0        0.0        0.0       0.0  ...        0.0   \n",
       "3  1995.0    1995.0        0.0        0.0       0.0  ...        0.0   \n",
       "4  1995.0    1995.0        0.0        0.0       0.0  ...        0.0   \n",
       "\n",
       "   Horror_rank  Action_wr  Action_rank  Musical_wr  Musical_rank  Fantasy_wr  \\\n",
       "0          0.0        0.0          0.0         0.0           0.0    3.884509   \n",
       "1          0.0        0.0          0.0         0.0           0.0    0.000000   \n",
       "2          0.0        0.0          0.0         0.0           0.0    0.000000   \n",
       "3          0.0        0.0          0.0         0.0           0.0    0.000000   \n",
       "4          0.0        0.0          0.0         0.0           0.0    0.000000   \n",
       "\n",
       "   Fantasy_rank  Western_wr  Western_rank  \n",
       "0          19.0         0.0           0.0  \n",
       "1           0.0         0.0           0.0  \n",
       "2           0.0         0.0           0.0  \n",
       "3           0.0         0.0           0.0  \n",
       "4           0.0         0.0           0.0  \n",
       "\n",
       "[5 rows x 195 columns]"
      ]
     },
     "execution_count": 60,
     "metadata": {},
     "output_type": "execute_result"
    }
   ],
   "source": [
    "movies.head()"
   ]
  },
  {
   "cell_type": "code",
   "execution_count": 61,
   "metadata": {},
   "outputs": [
    {
     "data": {
      "text/plain": [
       "(62423, 195)"
      ]
     },
     "execution_count": 61,
     "metadata": {},
     "output_type": "execute_result"
    }
   ],
   "source": [
    "movies.shape"
   ]
  },
  {
   "cell_type": "code",
   "execution_count": 62,
   "metadata": {},
   "outputs": [],
   "source": [
    "numeric_features += [\"%s_wr\"%g for g in genres]\n",
    "numeric_features += [\"%s_rank\"%g for g in genres]"
   ]
  },
  {
   "cell_type": "code",
   "execution_count": 63,
   "metadata": {},
   "outputs": [],
   "source": [
    "#numeric_features\n",
    "cat_features = ['userId_factor',\n",
    " 'movieId_factor','year_cat',\n",
    " 'genres',\n",
    " '(no genres listed)',\n",
    " 'Thriller',\n",
    " 'Documentary',\n",
    " 'Animation',\n",
    " 'Horror',\n",
    " 'Musical',\n",
    " 'Film-Noir',\n",
    " 'Romance',\n",
    " 'Action',\n",
    " 'IMAX',\n",
    " 'Western',\n",
    " 'Crime',\n",
    " 'Adventure',\n",
    " 'Comedy',\n",
    " 'Fantasy',\n",
    " 'Mystery',\n",
    " 'Drama',\n",
    " 'Children',\n",
    " 'Sci-Fi',\n",
    " 'War',\n",
    " ]"
   ]
  },
  {
   "cell_type": "code",
   "execution_count": 64,
   "metadata": {},
   "outputs": [
    {
     "data": {
      "text/plain": [
       "['userId_factor',\n",
       " 'movieId_factor',\n",
       " 'year_cat',\n",
       " 'genres',\n",
       " '(no genres listed)',\n",
       " 'Thriller',\n",
       " 'Documentary',\n",
       " 'Animation',\n",
       " 'Horror',\n",
       " 'Musical',\n",
       " 'Film-Noir',\n",
       " 'Romance',\n",
       " 'Action',\n",
       " 'IMAX',\n",
       " 'Western',\n",
       " 'Crime',\n",
       " 'Adventure',\n",
       " 'Comedy',\n",
       " 'Fantasy',\n",
       " 'Mystery',\n",
       " 'Drama',\n",
       " 'Children',\n",
       " 'Sci-Fi',\n",
       " 'War']"
      ]
     },
     "execution_count": 64,
     "metadata": {},
     "output_type": "execute_result"
    }
   ],
   "source": [
    "cat_features"
   ]
  },
  {
   "cell_type": "code",
   "execution_count": 65,
   "metadata": {},
   "outputs": [],
   "source": [
    "with open('./assets/features.pkl', 'wb') as f:\n",
    "    pickle.dump({\"numeric_features\": numeric_features, 'cat_features': cat_features }, f)\n"
   ]
  },
  {
   "cell_type": "code",
   "execution_count": 66,
   "metadata": {},
   "outputs": [
    {
     "name": "stdout",
     "output_type": "stream",
     "text": [
      "24\n",
      "171\n"
     ]
    }
   ],
   "source": [
    "print(len(cat_features))\n",
    "print(len(numeric_features))"
   ]
  },
  {
   "cell_type": "code",
   "execution_count": 67,
   "metadata": {},
   "outputs": [],
   "source": [
    "# normalize\n",
    "normalize_feats = [x for x in numeric_features if not x.startswith('SVD')]\n",
    "for col in normalize_feats:    \n",
    "    movies[col] = (movies[col] - movies[col].mean())/movies[col].std(ddof=0)\n"
   ]
  },
  {
   "cell_type": "code",
   "execution_count": 68,
   "metadata": {},
   "outputs": [],
   "source": [
    "# factorize, except for userID & movieID\n",
    "cat_mappings = {}\n",
    "for f in cat_features[2:]:\n",
    "    movies[f], cat_mappings[f]  = pd.factorize(movies[f])"
   ]
  },
  {
   "cell_type": "code",
   "execution_count": 69,
   "metadata": {},
   "outputs": [
    {
     "data": {
      "text/plain": [
       "22"
      ]
     },
     "execution_count": 69,
     "metadata": {},
     "output_type": "execute_result"
    }
   ],
   "source": [
    "len(cat_mappings)"
   ]
  },
  {
   "cell_type": "markdown",
   "metadata": {},
   "source": [
    "# Using IMDB ID"
   ]
  },
  {
   "cell_type": "code",
   "execution_count": 70,
   "metadata": {},
   "outputs": [],
   "source": [
    "movies = movies.merge(links, on='movieId', how='left')"
   ]
  },
  {
   "cell_type": "code",
   "execution_count": 71,
   "metadata": {},
   "outputs": [
    {
     "data": {
      "text/html": [
       "<div>\n",
       "<style scoped>\n",
       "    .dataframe tbody tr th:only-of-type {\n",
       "        vertical-align: middle;\n",
       "    }\n",
       "\n",
       "    .dataframe tbody tr th {\n",
       "        vertical-align: top;\n",
       "    }\n",
       "\n",
       "    .dataframe thead th {\n",
       "        text-align: right;\n",
       "    }\n",
       "</style>\n",
       "<table border=\"1\" class=\"dataframe\">\n",
       "  <thead>\n",
       "    <tr style=\"text-align: right;\">\n",
       "      <th></th>\n",
       "      <th>movieId</th>\n",
       "      <th>title</th>\n",
       "      <th>genres</th>\n",
       "      <th>userId_count</th>\n",
       "      <th>rating_mean</th>\n",
       "      <th>year</th>\n",
       "      <th>year_cat</th>\n",
       "      <th>Adventure</th>\n",
       "      <th>Animation</th>\n",
       "      <th>Children</th>\n",
       "      <th>...</th>\n",
       "      <th>Action_wr</th>\n",
       "      <th>Action_rank</th>\n",
       "      <th>Musical_wr</th>\n",
       "      <th>Musical_rank</th>\n",
       "      <th>Fantasy_wr</th>\n",
       "      <th>Fantasy_rank</th>\n",
       "      <th>Western_wr</th>\n",
       "      <th>Western_rank</th>\n",
       "      <th>imdbId</th>\n",
       "      <th>tmdbId</th>\n",
       "    </tr>\n",
       "  </thead>\n",
       "  <tbody>\n",
       "    <tr>\n",
       "      <th>0</th>\n",
       "      <td>1</td>\n",
       "      <td>Toy Story (1995)</td>\n",
       "      <td>0</td>\n",
       "      <td>23.595563</td>\n",
       "      <td>0.988274</td>\n",
       "      <td>0.098469</td>\n",
       "      <td>0</td>\n",
       "      <td>0</td>\n",
       "      <td>0</td>\n",
       "      <td>0</td>\n",
       "      <td>...</td>\n",
       "      <td>-0.063366</td>\n",
       "      <td>-0.054833</td>\n",
       "      <td>-0.063386</td>\n",
       "      <td>-0.054833</td>\n",
       "      <td>16.735814</td>\n",
       "      <td>2.034624</td>\n",
       "      <td>-0.052321</td>\n",
       "      <td>-0.045307</td>\n",
       "      <td>0114709</td>\n",
       "      <td>862</td>\n",
       "    </tr>\n",
       "    <tr>\n",
       "      <th>1</th>\n",
       "      <td>2</td>\n",
       "      <td>Jumanji (1995)</td>\n",
       "      <td>1</td>\n",
       "      <td>9.879427</td>\n",
       "      <td>0.346202</td>\n",
       "      <td>0.098469</td>\n",
       "      <td>0</td>\n",
       "      <td>0</td>\n",
       "      <td>1</td>\n",
       "      <td>0</td>\n",
       "      <td>...</td>\n",
       "      <td>-0.063366</td>\n",
       "      <td>-0.054833</td>\n",
       "      <td>-0.063386</td>\n",
       "      <td>-0.054833</td>\n",
       "      <td>-0.063366</td>\n",
       "      <td>-0.054833</td>\n",
       "      <td>-0.052321</td>\n",
       "      <td>-0.045307</td>\n",
       "      <td>0113497</td>\n",
       "      <td>8844</td>\n",
       "    </tr>\n",
       "    <tr>\n",
       "      <th>2</th>\n",
       "      <td>3</td>\n",
       "      <td>Grumpier Old Men (1995)</td>\n",
       "      <td>2</td>\n",
       "      <td>4.728153</td>\n",
       "      <td>0.236722</td>\n",
       "      <td>0.098469</td>\n",
       "      <td>0</td>\n",
       "      <td>1</td>\n",
       "      <td>1</td>\n",
       "      <td>1</td>\n",
       "      <td>...</td>\n",
       "      <td>-0.063366</td>\n",
       "      <td>-0.054833</td>\n",
       "      <td>-0.063386</td>\n",
       "      <td>-0.054833</td>\n",
       "      <td>-0.063366</td>\n",
       "      <td>-0.054833</td>\n",
       "      <td>-0.052321</td>\n",
       "      <td>-0.045307</td>\n",
       "      <td>0113228</td>\n",
       "      <td>15602</td>\n",
       "    </tr>\n",
       "    <tr>\n",
       "      <th>3</th>\n",
       "      <td>4</td>\n",
       "      <td>Waiting to Exhale (1995)</td>\n",
       "      <td>3</td>\n",
       "      <td>0.880039</td>\n",
       "      <td>-0.051710</td>\n",
       "      <td>0.098469</td>\n",
       "      <td>0</td>\n",
       "      <td>1</td>\n",
       "      <td>1</td>\n",
       "      <td>1</td>\n",
       "      <td>...</td>\n",
       "      <td>-0.063366</td>\n",
       "      <td>-0.054833</td>\n",
       "      <td>-0.063386</td>\n",
       "      <td>-0.054833</td>\n",
       "      <td>-0.063366</td>\n",
       "      <td>-0.054833</td>\n",
       "      <td>-0.052321</td>\n",
       "      <td>-0.045307</td>\n",
       "      <td>0114885</td>\n",
       "      <td>31357</td>\n",
       "    </tr>\n",
       "    <tr>\n",
       "      <th>4</th>\n",
       "      <td>5</td>\n",
       "      <td>Father of the Bride Part II (1995)</td>\n",
       "      <td>4</td>\n",
       "      <td>4.690837</td>\n",
       "      <td>0.153142</td>\n",
       "      <td>0.098469</td>\n",
       "      <td>0</td>\n",
       "      <td>1</td>\n",
       "      <td>1</td>\n",
       "      <td>1</td>\n",
       "      <td>...</td>\n",
       "      <td>-0.063366</td>\n",
       "      <td>-0.054833</td>\n",
       "      <td>-0.063386</td>\n",
       "      <td>-0.054833</td>\n",
       "      <td>-0.063366</td>\n",
       "      <td>-0.054833</td>\n",
       "      <td>-0.052321</td>\n",
       "      <td>-0.045307</td>\n",
       "      <td>0113041</td>\n",
       "      <td>11862</td>\n",
       "    </tr>\n",
       "  </tbody>\n",
       "</table>\n",
       "<p>5 rows × 197 columns</p>\n",
       "</div>"
      ],
      "text/plain": [
       "   movieId                               title  genres  userId_count  \\\n",
       "0        1                    Toy Story (1995)       0     23.595563   \n",
       "1        2                      Jumanji (1995)       1      9.879427   \n",
       "2        3             Grumpier Old Men (1995)       2      4.728153   \n",
       "3        4            Waiting to Exhale (1995)       3      0.880039   \n",
       "4        5  Father of the Bride Part II (1995)       4      4.690837   \n",
       "\n",
       "   rating_mean      year  year_cat  Adventure  Animation  Children  ...  \\\n",
       "0     0.988274  0.098469         0          0          0         0  ...   \n",
       "1     0.346202  0.098469         0          0          1         0  ...   \n",
       "2     0.236722  0.098469         0          1          1         1  ...   \n",
       "3    -0.051710  0.098469         0          1          1         1  ...   \n",
       "4     0.153142  0.098469         0          1          1         1  ...   \n",
       "\n",
       "   Action_wr  Action_rank  Musical_wr  Musical_rank  Fantasy_wr  Fantasy_rank  \\\n",
       "0  -0.063366    -0.054833   -0.063386     -0.054833   16.735814      2.034624   \n",
       "1  -0.063366    -0.054833   -0.063386     -0.054833   -0.063366     -0.054833   \n",
       "2  -0.063366    -0.054833   -0.063386     -0.054833   -0.063366     -0.054833   \n",
       "3  -0.063366    -0.054833   -0.063386     -0.054833   -0.063366     -0.054833   \n",
       "4  -0.063366    -0.054833   -0.063386     -0.054833   -0.063366     -0.054833   \n",
       "\n",
       "   Western_wr  Western_rank   imdbId  tmdbId  \n",
       "0   -0.052321     -0.045307  0114709     862  \n",
       "1   -0.052321     -0.045307  0113497    8844  \n",
       "2   -0.052321     -0.045307  0113228   15602  \n",
       "3   -0.052321     -0.045307  0114885   31357  \n",
       "4   -0.052321     -0.045307  0113041   11862  \n",
       "\n",
       "[5 rows x 197 columns]"
      ]
     },
     "execution_count": 71,
     "metadata": {},
     "output_type": "execute_result"
    }
   ],
   "source": [
    "movies.head()"
   ]
  },
  {
   "cell_type": "code",
   "execution_count": 72,
   "metadata": {},
   "outputs": [],
   "source": [
    "movies.to_csv(MOVIE_LENS_DATA_PATH+\"movies_preprocessed_v4.csv\", index=False)"
   ]
  },
  {
   "cell_type": "code",
   "execution_count": 73,
   "metadata": {},
   "outputs": [
    {
     "data": {
      "text/plain": [
       "(62423, 197)"
      ]
     },
     "execution_count": 73,
     "metadata": {},
     "output_type": "execute_result"
    }
   ],
   "source": [
    "movies.shape"
   ]
  },
  {
   "cell_type": "markdown",
   "metadata": {},
   "source": [
    "# Rating data"
   ]
  },
  {
   "cell_type": "code",
   "execution_count": 74,
   "metadata": {},
   "outputs": [
    {
     "data": {
      "text/html": [
       "<div>\n",
       "<style scoped>\n",
       "    .dataframe tbody tr th:only-of-type {\n",
       "        vertical-align: middle;\n",
       "    }\n",
       "\n",
       "    .dataframe tbody tr th {\n",
       "        vertical-align: top;\n",
       "    }\n",
       "\n",
       "    .dataframe thead th {\n",
       "        text-align: right;\n",
       "    }\n",
       "</style>\n",
       "<table border=\"1\" class=\"dataframe\">\n",
       "  <thead>\n",
       "    <tr style=\"text-align: right;\">\n",
       "      <th></th>\n",
       "      <th>userId</th>\n",
       "      <th>movieId</th>\n",
       "      <th>rating</th>\n",
       "      <th>timestamp</th>\n",
       "    </tr>\n",
       "  </thead>\n",
       "  <tbody>\n",
       "    <tr>\n",
       "      <th>0</th>\n",
       "      <td>1</td>\n",
       "      <td>296</td>\n",
       "      <td>5.0</td>\n",
       "      <td>1147880044</td>\n",
       "    </tr>\n",
       "    <tr>\n",
       "      <th>1</th>\n",
       "      <td>1</td>\n",
       "      <td>306</td>\n",
       "      <td>3.5</td>\n",
       "      <td>1147868817</td>\n",
       "    </tr>\n",
       "    <tr>\n",
       "      <th>2</th>\n",
       "      <td>1</td>\n",
       "      <td>307</td>\n",
       "      <td>5.0</td>\n",
       "      <td>1147868828</td>\n",
       "    </tr>\n",
       "    <tr>\n",
       "      <th>3</th>\n",
       "      <td>1</td>\n",
       "      <td>665</td>\n",
       "      <td>5.0</td>\n",
       "      <td>1147878820</td>\n",
       "    </tr>\n",
       "    <tr>\n",
       "      <th>4</th>\n",
       "      <td>1</td>\n",
       "      <td>899</td>\n",
       "      <td>3.5</td>\n",
       "      <td>1147868510</td>\n",
       "    </tr>\n",
       "  </tbody>\n",
       "</table>\n",
       "</div>"
      ],
      "text/plain": [
       "   userId  movieId  rating   timestamp\n",
       "0       1      296     5.0  1147880044\n",
       "1       1      306     3.5  1147868817\n",
       "2       1      307     5.0  1147868828\n",
       "3       1      665     5.0  1147878820\n",
       "4       1      899     3.5  1147868510"
      ]
     },
     "execution_count": 74,
     "metadata": {},
     "output_type": "execute_result"
    }
   ],
   "source": [
    "ratings.head()"
   ]
  },
  {
   "cell_type": "code",
   "execution_count": 75,
   "metadata": {},
   "outputs": [],
   "source": [
    "ratings['movieId_factor'], movies_mappings = pd.factorize(ratings['movieId'])"
   ]
  },
  {
   "cell_type": "code",
   "execution_count": 76,
   "metadata": {},
   "outputs": [
    {
     "data": {
      "text/plain": [
       "Int64Index([   296,    306,    307,    665,    899,   1088,   1175,   1217,\n",
       "              1237,   1250,\n",
       "            ...\n",
       "            200178, 200182, 200186, 200188, 200190, 200192, 200194, 139970,\n",
       "            200726, 200728],\n",
       "           dtype='int64', length=59047)"
      ]
     },
     "execution_count": 76,
     "metadata": {},
     "output_type": "execute_result"
    }
   ],
   "source": [
    "movies_mappings"
   ]
  },
  {
   "cell_type": "code",
   "execution_count": 77,
   "metadata": {},
   "outputs": [],
   "source": [
    "ratings['userId_factor'], user_mappings = pd.factorize(ratings['userId'])"
   ]
  },
  {
   "cell_type": "code",
   "execution_count": 78,
   "metadata": {},
   "outputs": [
    {
     "data": {
      "text/plain": [
       "Int64Index([     1,      2,      3,      4,      5,      6,      7,      8,\n",
       "                 9,     10,\n",
       "            ...\n",
       "            162532, 162533, 162534, 162535, 162536, 162537, 162538, 162539,\n",
       "            162540, 162541],\n",
       "           dtype='int64', length=162541)"
      ]
     },
     "execution_count": 78,
     "metadata": {},
     "output_type": "execute_result"
    }
   ],
   "source": [
    "user_mappings"
   ]
  },
  {
   "cell_type": "code",
   "execution_count": 79,
   "metadata": {},
   "outputs": [
    {
     "data": {
      "text/html": [
       "<div>\n",
       "<style scoped>\n",
       "    .dataframe tbody tr th:only-of-type {\n",
       "        vertical-align: middle;\n",
       "    }\n",
       "\n",
       "    .dataframe tbody tr th {\n",
       "        vertical-align: top;\n",
       "    }\n",
       "\n",
       "    .dataframe thead th {\n",
       "        text-align: right;\n",
       "    }\n",
       "</style>\n",
       "<table border=\"1\" class=\"dataframe\">\n",
       "  <thead>\n",
       "    <tr style=\"text-align: right;\">\n",
       "      <th></th>\n",
       "      <th>userId</th>\n",
       "      <th>movieId</th>\n",
       "      <th>rating</th>\n",
       "      <th>timestamp</th>\n",
       "      <th>movieId_factor</th>\n",
       "      <th>userId_factor</th>\n",
       "    </tr>\n",
       "  </thead>\n",
       "  <tbody>\n",
       "    <tr>\n",
       "      <th>0</th>\n",
       "      <td>1</td>\n",
       "      <td>296</td>\n",
       "      <td>5.0</td>\n",
       "      <td>1147880044</td>\n",
       "      <td>0</td>\n",
       "      <td>0</td>\n",
       "    </tr>\n",
       "    <tr>\n",
       "      <th>1</th>\n",
       "      <td>1</td>\n",
       "      <td>306</td>\n",
       "      <td>3.5</td>\n",
       "      <td>1147868817</td>\n",
       "      <td>1</td>\n",
       "      <td>0</td>\n",
       "    </tr>\n",
       "    <tr>\n",
       "      <th>2</th>\n",
       "      <td>1</td>\n",
       "      <td>307</td>\n",
       "      <td>5.0</td>\n",
       "      <td>1147868828</td>\n",
       "      <td>2</td>\n",
       "      <td>0</td>\n",
       "    </tr>\n",
       "    <tr>\n",
       "      <th>3</th>\n",
       "      <td>1</td>\n",
       "      <td>665</td>\n",
       "      <td>5.0</td>\n",
       "      <td>1147878820</td>\n",
       "      <td>3</td>\n",
       "      <td>0</td>\n",
       "    </tr>\n",
       "    <tr>\n",
       "      <th>4</th>\n",
       "      <td>1</td>\n",
       "      <td>899</td>\n",
       "      <td>3.5</td>\n",
       "      <td>1147868510</td>\n",
       "      <td>4</td>\n",
       "      <td>0</td>\n",
       "    </tr>\n",
       "  </tbody>\n",
       "</table>\n",
       "</div>"
      ],
      "text/plain": [
       "   userId  movieId  rating   timestamp  movieId_factor  userId_factor\n",
       "0       1      296     5.0  1147880044               0              0\n",
       "1       1      306     3.5  1147868817               1              0\n",
       "2       1      307     5.0  1147868828               2              0\n",
       "3       1      665     5.0  1147878820               3              0\n",
       "4       1      899     3.5  1147868510               4              0"
      ]
     },
     "execution_count": 79,
     "metadata": {},
     "output_type": "execute_result"
    }
   ],
   "source": [
    "ratings.head()"
   ]
  },
  {
   "cell_type": "code",
   "execution_count": 80,
   "metadata": {},
   "outputs": [],
   "source": [
    "cat_mappings.update({'movieId_factor':movies_mappings, 'userId_factor': user_mappings})"
   ]
  },
  {
   "cell_type": "code",
   "execution_count": 81,
   "metadata": {},
   "outputs": [],
   "source": [
    "with open('./assets/cat_mappings.pkl', 'wb') as f:\n",
    "    pickle.dump({\"cat_mappings\": cat_mappings}, f)"
   ]
  },
  {
   "cell_type": "markdown",
   "metadata": {},
   "source": [
    "# Divide into train and test"
   ]
  },
  {
   "cell_type": "code",
   "execution_count": 82,
   "metadata": {},
   "outputs": [
    {
     "data": {
      "text/html": [
       "<div>\n",
       "<style scoped>\n",
       "    .dataframe tbody tr th:only-of-type {\n",
       "        vertical-align: middle;\n",
       "    }\n",
       "\n",
       "    .dataframe tbody tr th {\n",
       "        vertical-align: top;\n",
       "    }\n",
       "\n",
       "    .dataframe thead th {\n",
       "        text-align: right;\n",
       "    }\n",
       "</style>\n",
       "<table border=\"1\" class=\"dataframe\">\n",
       "  <thead>\n",
       "    <tr style=\"text-align: right;\">\n",
       "      <th></th>\n",
       "      <th>userId</th>\n",
       "      <th>movieId</th>\n",
       "      <th>rating</th>\n",
       "      <th>timestamp</th>\n",
       "      <th>movieId_factor</th>\n",
       "      <th>userId_factor</th>\n",
       "      <th>imdbId</th>\n",
       "      <th>tmdbId</th>\n",
       "    </tr>\n",
       "  </thead>\n",
       "  <tbody>\n",
       "    <tr>\n",
       "      <th>0</th>\n",
       "      <td>1</td>\n",
       "      <td>296</td>\n",
       "      <td>5.0</td>\n",
       "      <td>1147880044</td>\n",
       "      <td>0</td>\n",
       "      <td>0</td>\n",
       "      <td>0110912</td>\n",
       "      <td>680</td>\n",
       "    </tr>\n",
       "    <tr>\n",
       "      <th>1</th>\n",
       "      <td>1</td>\n",
       "      <td>306</td>\n",
       "      <td>3.5</td>\n",
       "      <td>1147868817</td>\n",
       "      <td>1</td>\n",
       "      <td>0</td>\n",
       "      <td>0111495</td>\n",
       "      <td>110</td>\n",
       "    </tr>\n",
       "    <tr>\n",
       "      <th>2</th>\n",
       "      <td>1</td>\n",
       "      <td>307</td>\n",
       "      <td>5.0</td>\n",
       "      <td>1147868828</td>\n",
       "      <td>2</td>\n",
       "      <td>0</td>\n",
       "      <td>0108394</td>\n",
       "      <td>108</td>\n",
       "    </tr>\n",
       "    <tr>\n",
       "      <th>3</th>\n",
       "      <td>1</td>\n",
       "      <td>665</td>\n",
       "      <td>5.0</td>\n",
       "      <td>1147878820</td>\n",
       "      <td>3</td>\n",
       "      <td>0</td>\n",
       "      <td>0114787</td>\n",
       "      <td>11902</td>\n",
       "    </tr>\n",
       "    <tr>\n",
       "      <th>4</th>\n",
       "      <td>1</td>\n",
       "      <td>899</td>\n",
       "      <td>3.5</td>\n",
       "      <td>1147868510</td>\n",
       "      <td>4</td>\n",
       "      <td>0</td>\n",
       "      <td>0045152</td>\n",
       "      <td>872</td>\n",
       "    </tr>\n",
       "  </tbody>\n",
       "</table>\n",
       "</div>"
      ],
      "text/plain": [
       "   userId  movieId  rating   timestamp  movieId_factor  userId_factor  \\\n",
       "0       1      296     5.0  1147880044               0              0   \n",
       "1       1      306     3.5  1147868817               1              0   \n",
       "2       1      307     5.0  1147868828               2              0   \n",
       "3       1      665     5.0  1147878820               3              0   \n",
       "4       1      899     3.5  1147868510               4              0   \n",
       "\n",
       "    imdbId tmdbId  \n",
       "0  0110912    680  \n",
       "1  0111495    110  \n",
       "2  0108394    108  \n",
       "3  0114787  11902  \n",
       "4  0045152    872  "
      ]
     },
     "execution_count": 82,
     "metadata": {},
     "output_type": "execute_result"
    }
   ],
   "source": [
    "ratings = ratings.merge(links, how='left', on='movieId')\n",
    "ratings.head()"
   ]
  },
  {
   "cell_type": "code",
   "execution_count": 83,
   "metadata": {},
   "outputs": [],
   "source": [
    "MIN_RATINGS = 20\n",
    "USER_COLUMN = 'userId'\n",
    "ITEM_COLUMN = 'movieId'\n",
    "\n",
    "grouped = ratings.groupby(USER_COLUMN)"
   ]
  },
  {
   "cell_type": "code",
   "execution_count": 84,
   "metadata": {},
   "outputs": [],
   "source": [
    "df = ratings\n",
    "\n",
    "# Need to sort before popping to get last item\n",
    "df.sort_values(by='timestamp', inplace=True)\n",
    "\n",
    "# clean up data\n",
    "del df['rating'], df['timestamp']\n",
    "df = df.drop_duplicates() # assuming it keeps order\n",
    "\n",
    "# now we have filtered and sorted by time data, we can split test data out\n",
    "grouped_sorted = df.groupby(USER_COLUMN, group_keys=False)\n",
    "test_data = grouped_sorted.tail(1).sort_values(by=USER_COLUMN)\n",
    "# need to pop for each group\n",
    "train_data = grouped_sorted.apply(lambda x: x.iloc[:-1])"
   ]
  },
  {
   "cell_type": "code",
   "execution_count": 85,
   "metadata": {},
   "outputs": [],
   "source": [
    "del train_data['imdbId'], train_data['tmdbId'], train_data['userId']\n",
    "del test_data['imdbId'], test_data['tmdbId'], test_data['userId']"
   ]
  },
  {
   "cell_type": "code",
   "execution_count": 86,
   "metadata": {},
   "outputs": [
    {
     "data": {
      "text/html": [
       "<div>\n",
       "<style scoped>\n",
       "    .dataframe tbody tr th:only-of-type {\n",
       "        vertical-align: middle;\n",
       "    }\n",
       "\n",
       "    .dataframe tbody tr th {\n",
       "        vertical-align: top;\n",
       "    }\n",
       "\n",
       "    .dataframe thead th {\n",
       "        text-align: right;\n",
       "    }\n",
       "</style>\n",
       "<table border=\"1\" class=\"dataframe\">\n",
       "  <thead>\n",
       "    <tr style=\"text-align: right;\">\n",
       "      <th></th>\n",
       "      <th>movieId</th>\n",
       "      <th>movieId_factor</th>\n",
       "      <th>userId_factor</th>\n",
       "    </tr>\n",
       "  </thead>\n",
       "  <tbody>\n",
       "    <tr>\n",
       "      <th>36</th>\n",
       "      <td>5952</td>\n",
       "      <td>36</td>\n",
       "      <td>0</td>\n",
       "    </tr>\n",
       "    <tr>\n",
       "      <th>13</th>\n",
       "      <td>2012</td>\n",
       "      <td>13</td>\n",
       "      <td>0</td>\n",
       "    </tr>\n",
       "    <tr>\n",
       "      <th>12</th>\n",
       "      <td>2011</td>\n",
       "      <td>12</td>\n",
       "      <td>0</td>\n",
       "    </tr>\n",
       "    <tr>\n",
       "      <th>11</th>\n",
       "      <td>1653</td>\n",
       "      <td>11</td>\n",
       "      <td>0</td>\n",
       "    </tr>\n",
       "    <tr>\n",
       "      <th>9</th>\n",
       "      <td>1250</td>\n",
       "      <td>9</td>\n",
       "      <td>0</td>\n",
       "    </tr>\n",
       "  </tbody>\n",
       "</table>\n",
       "</div>"
      ],
      "text/plain": [
       "    movieId  movieId_factor  userId_factor\n",
       "36     5952              36              0\n",
       "13     2012              13              0\n",
       "12     2011              12              0\n",
       "11     1653              11              0\n",
       "9      1250               9              0"
      ]
     },
     "execution_count": 86,
     "metadata": {},
     "output_type": "execute_result"
    }
   ],
   "source": [
    "train_data.head()"
   ]
  },
  {
   "cell_type": "code",
   "execution_count": 87,
   "metadata": {},
   "outputs": [
    {
     "data": {
      "text/html": [
       "<div>\n",
       "<style scoped>\n",
       "    .dataframe tbody tr th:only-of-type {\n",
       "        vertical-align: middle;\n",
       "    }\n",
       "\n",
       "    .dataframe tbody tr th {\n",
       "        vertical-align: top;\n",
       "    }\n",
       "\n",
       "    .dataframe thead th {\n",
       "        text-align: right;\n",
       "    }\n",
       "</style>\n",
       "<table border=\"1\" class=\"dataframe\">\n",
       "  <thead>\n",
       "    <tr style=\"text-align: right;\">\n",
       "      <th></th>\n",
       "      <th>movieId</th>\n",
       "      <th>movieId_factor</th>\n",
       "      <th>userId_factor</th>\n",
       "    </tr>\n",
       "  </thead>\n",
       "  <tbody>\n",
       "    <tr>\n",
       "      <th>48</th>\n",
       "      <td>7361</td>\n",
       "      <td>48</td>\n",
       "      <td>0</td>\n",
       "    </tr>\n",
       "    <tr>\n",
       "      <th>148</th>\n",
       "      <td>2150</td>\n",
       "      <td>147</td>\n",
       "      <td>1</td>\n",
       "    </tr>\n",
       "    <tr>\n",
       "      <th>307</th>\n",
       "      <td>1732</td>\n",
       "      <td>283</td>\n",
       "      <td>2</td>\n",
       "    </tr>\n",
       "    <tr>\n",
       "      <th>919</th>\n",
       "      <td>1136</td>\n",
       "      <td>101</td>\n",
       "      <td>3</td>\n",
       "    </tr>\n",
       "    <tr>\n",
       "      <th>1226</th>\n",
       "      <td>1016</td>\n",
       "      <td>978</td>\n",
       "      <td>4</td>\n",
       "    </tr>\n",
       "  </tbody>\n",
       "</table>\n",
       "</div>"
      ],
      "text/plain": [
       "      movieId  movieId_factor  userId_factor\n",
       "48       7361              48              0\n",
       "148      2150             147              1\n",
       "307      1732             283              2\n",
       "919      1136             101              3\n",
       "1226     1016             978              4"
      ]
     },
     "execution_count": 87,
     "metadata": {},
     "output_type": "execute_result"
    }
   ],
   "source": [
    "test_data.head()"
   ]
  },
  {
   "cell_type": "code",
   "execution_count": 88,
   "metadata": {},
   "outputs": [],
   "source": [
    "train_data.to_csv(MOVIE_LENS_DATA_PATH+\"train.csv\")\n",
    "test_data.to_csv(MOVIE_LENS_DATA_PATH+\"test.csv\")"
   ]
  },
  {
   "cell_type": "code",
   "execution_count": 89,
   "metadata": {},
   "outputs": [
    {
     "data": {
      "text/plain": [
       "59047"
      ]
     },
     "execution_count": 89,
     "metadata": {},
     "output_type": "execute_result"
    }
   ],
   "source": [
    "len(movies_mappings)"
   ]
  },
  {
   "cell_type": "code",
   "execution_count": 90,
   "metadata": {},
   "outputs": [
    {
     "data": {
      "text/plain": [
       "162541"
      ]
     },
     "execution_count": 90,
     "metadata": {},
     "output_type": "execute_result"
    }
   ],
   "source": [
    "len(user_mappings)"
   ]
  },
  {
   "cell_type": "code",
   "execution_count": 91,
   "metadata": {},
   "outputs": [
    {
     "name": "stdout",
     "output_type": "stream",
     "text": [
      "Writing model_size.json\n"
     ]
    }
   ],
   "source": [
    "%%writefile model_size.json\n",
    "{\n",
    "    \"_c54\": 162541,\n",
    "    \"_c55\": 59047,\n",
    "    \"_c56\": 136,\n",
    "    \"_c57\": 1639,\n",
    "    \"_c58\": 2,\n",
    "    \"_c59\": 2,\n",
    "    \"_c60\": 2,\n",
    "    \"_c61\": 2,\n",
    "    \"_c62\": 2,\n",
    "    \"_c63\": 2,\n",
    "    \"_c64\": 2,\n",
    "    \"_c65\": 2,\n",
    "    \"_c66\": 2,\n",
    "    \"_c67\": 2,\n",
    "    \"_c68\": 2,\n",
    "    \"_c69\": 2,\n",
    "    \"_c70\": 2,\n",
    "    \"_c71\": 2,\n",
    "    \"_c72\": 2,\n",
    "    \"_c73\": 2,\n",
    "    \"_c74\": 2,\n",
    "    \"_c75\": 2,\n",
    "    \"_c76\": 2,\n",
    "    \"_c77\": 2\n",
    "}"
   ]
  },
  {
   "cell_type": "markdown",
   "metadata": {},
   "source": [
    "!python ./dlrm/scripts/main_movie_lens.py \\\n",
    "--mode train \\\n",
    "--dataset /data/dlrm/binary_dataset/ \\\n",
    "--num_numerical_features 1 \\\n",
    "--base_device cuda \\\n",
    "--lr 0.1 \\\n",
    "--embedding_type joint \\\n",
    "--epochs 10 \\\n",
    "--batch_size=8192 \\\n",
    "--save_checkpoint_path ./movie_lens_dlrm"
   ]
  },
  {
   "cell_type": "markdown",
   "metadata": {},
   "source": [
    "# Batching data test"
   ]
  },
  {
   "cell_type": "code",
   "execution_count": 92,
   "metadata": {},
   "outputs": [],
   "source": [
    "steps_per_epoch = len(ratings)/16384\n",
    "batch_indices = np.array_split(ratings.index, steps_per_epoch)"
   ]
  },
  {
   "cell_type": "code",
   "execution_count": 94,
   "metadata": {},
   "outputs": [
    {
     "ename": "AttributeError",
     "evalue": "'DataFrame' object has no attribute 'ix'",
     "output_type": "error",
     "traceback": [
      "\u001b[0;31m---------------------------------------------------------------------------\u001b[0m",
      "\u001b[0;31mAttributeError\u001b[0m                            Traceback (most recent call last)",
      "\u001b[0;32m<ipython-input-94-d81b238aee1d>\u001b[0m in \u001b[0;36m<module>\u001b[0;34m\u001b[0m\n\u001b[0;32m----> 1\u001b[0;31m \u001b[0mbatch_data\u001b[0m \u001b[0;34m=\u001b[0m \u001b[0mratings\u001b[0m\u001b[0;34m.\u001b[0m\u001b[0mix\u001b[0m\u001b[0;34m[\u001b[0m\u001b[0mbatch_indices\u001b[0m\u001b[0;34m[\u001b[0m\u001b[0;36m0\u001b[0m\u001b[0;34m]\u001b[0m\u001b[0;34m]\u001b[0m\u001b[0;34m.\u001b[0m\u001b[0mcopy\u001b[0m\u001b[0;34m(\u001b[0m\u001b[0;34m)\u001b[0m\u001b[0;34m\u001b[0m\u001b[0;34m\u001b[0m\u001b[0m\n\u001b[0m",
      "\u001b[0;32m/opt/conda/envs/merlin/lib/python3.8/site-packages/pandas/core/generic.py\u001b[0m in \u001b[0;36m__getattr__\u001b[0;34m(self, name)\u001b[0m\n\u001b[1;32m   5139\u001b[0m             \u001b[0;32mif\u001b[0m \u001b[0mself\u001b[0m\u001b[0;34m.\u001b[0m\u001b[0m_info_axis\u001b[0m\u001b[0;34m.\u001b[0m\u001b[0m_can_hold_identifiers_and_holds_name\u001b[0m\u001b[0;34m(\u001b[0m\u001b[0mname\u001b[0m\u001b[0;34m)\u001b[0m\u001b[0;34m:\u001b[0m\u001b[0;34m\u001b[0m\u001b[0;34m\u001b[0m\u001b[0m\n\u001b[1;32m   5140\u001b[0m                 \u001b[0;32mreturn\u001b[0m \u001b[0mself\u001b[0m\u001b[0;34m[\u001b[0m\u001b[0mname\u001b[0m\u001b[0;34m]\u001b[0m\u001b[0;34m\u001b[0m\u001b[0;34m\u001b[0m\u001b[0m\n\u001b[0;32m-> 5141\u001b[0;31m             \u001b[0;32mreturn\u001b[0m \u001b[0mobject\u001b[0m\u001b[0;34m.\u001b[0m\u001b[0m__getattribute__\u001b[0m\u001b[0;34m(\u001b[0m\u001b[0mself\u001b[0m\u001b[0;34m,\u001b[0m \u001b[0mname\u001b[0m\u001b[0;34m)\u001b[0m\u001b[0;34m\u001b[0m\u001b[0;34m\u001b[0m\u001b[0m\n\u001b[0m\u001b[1;32m   5142\u001b[0m \u001b[0;34m\u001b[0m\u001b[0m\n\u001b[1;32m   5143\u001b[0m     \u001b[0;32mdef\u001b[0m \u001b[0m__setattr__\u001b[0m\u001b[0;34m(\u001b[0m\u001b[0mself\u001b[0m\u001b[0;34m,\u001b[0m \u001b[0mname\u001b[0m\u001b[0;34m:\u001b[0m \u001b[0mstr\u001b[0m\u001b[0;34m,\u001b[0m \u001b[0mvalue\u001b[0m\u001b[0;34m)\u001b[0m \u001b[0;34m->\u001b[0m \u001b[0;32mNone\u001b[0m\u001b[0;34m:\u001b[0m\u001b[0;34m\u001b[0m\u001b[0;34m\u001b[0m\u001b[0m\n",
      "\u001b[0;31mAttributeError\u001b[0m: 'DataFrame' object has no attribute 'ix'"
     ]
    }
   ],
   "source": [
    "batch_data = ratings.ix[batch_indices[0]].copy()"
   ]
  },
  {
   "cell_type": "code",
   "execution_count": null,
   "metadata": {},
   "outputs": [],
   "source": [
    "batch_data_neg = batch_data.copy()"
   ]
  },
  {
   "cell_type": "code",
   "execution_count": null,
   "metadata": {},
   "outputs": [],
   "source": [
    "all_movies_id = movies['movieId']"
   ]
  },
  {
   "cell_type": "code",
   "execution_count": null,
   "metadata": {},
   "outputs": [],
   "source": [
    "all_movies_id.head()"
   ]
  },
  {
   "cell_type": "code",
   "execution_count": null,
   "metadata": {},
   "outputs": [],
   "source": [
    "batch_data_neg['movieId'] = all_movies_id.sample(n=batch_data_neg.shape[0]).values"
   ]
  },
  {
   "cell_type": "code",
   "execution_count": null,
   "metadata": {},
   "outputs": [],
   "source": [
    "batch_data = pd.concat([batch_data, batch_data_neg])"
   ]
  },
  {
   "cell_type": "code",
   "execution_count": null,
   "metadata": {},
   "outputs": [],
   "source": [
    "batch_data.shape"
   ]
  },
  {
   "cell_type": "code",
   "execution_count": null,
   "metadata": {},
   "outputs": [],
   "source": [
    "batch_data.dtypes"
   ]
  },
  {
   "cell_type": "code",
   "execution_count": null,
   "metadata": {},
   "outputs": [],
   "source": [
    "batch_data = batch_data.merge(movies, on='movieId', how='left')"
   ]
  },
  {
   "cell_type": "code",
   "execution_count": null,
   "metadata": {},
   "outputs": [],
   "source": [
    "numerical_data = batch_data[numeric_features]\n"
   ]
  },
  {
   "cell_type": "code",
   "execution_count": null,
   "metadata": {},
   "outputs": [],
   "source": [
    "cat_data = batch_data[cat_features]"
   ]
  },
  {
   "cell_type": "code",
   "execution_count": null,
   "metadata": {},
   "outputs": [],
   "source": [
    "cat_data.shape"
   ]
  },
  {
   "cell_type": "code",
   "execution_count": null,
   "metadata": {},
   "outputs": [],
   "source": [
    "numerical_data.shape"
   ]
  },
  {
   "cell_type": "code",
   "execution_count": null,
   "metadata": {},
   "outputs": [],
   "source": [
    "# negative data\n"
   ]
  }
 ],
 "metadata": {
  "kernelspec": {
   "display_name": "Python 3",
   "language": "python",
   "name": "python3"
  },
  "language_info": {
   "codemirror_mode": {
    "name": "ipython",
    "version": 3
   },
   "file_extension": ".py",
   "mimetype": "text/x-python",
   "name": "python",
   "nbconvert_exporter": "python",
   "pygments_lexer": "ipython3",
   "version": "3.8.8"
  }
 },
 "nbformat": 4,
 "nbformat_minor": 4
}
